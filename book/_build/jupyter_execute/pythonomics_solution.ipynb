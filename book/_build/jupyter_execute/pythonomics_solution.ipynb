{
 "cells": [
  {
   "cell_type": "markdown",
   "metadata": {
    "colab_type": "text",
    "id": "gmeLzW6Q8ECF"
   },
   "source": [
    "# Pythonomics: Intro to economic analysis in Python\n",
    "\n",
    "*Author: Max Ghenis (mghenis@gmail.com)*\n",
    "\n",
    "**Topics:**\n",
    "\n",
    "* Loading data with `pandas`\n",
    "* Preprocessing data\n",
    "* Merging data\n",
    "* Regression with `statsmodels`\n",
    "* Output to $\\LaTeX$ with `stargazer`\n",
    "\n",
    "**Case study:** Effect of Alaska Permanent Fund Dividend on poverty rate,\n",
    "as measured by the Supplemental Poverty Measure.\n",
    "Difference in differences research design.\n",
    "\n"
   ]
  },
  {
   "cell_type": "markdown",
   "metadata": {
    "colab_type": "text",
    "id": "hCOJVekaOHx7"
   },
   "source": [
    "## How to use this notebook\n",
    "\n",
    "This is called **Google Colab**, a cloud **Jupyter notebook** editor that \n",
    "also connects to Google Drive, supports real-time collaboration and comments, etc.\n",
    "\n",
    "Notebooks are organized into cells, specifically **Markdown cells** (like this one, also accepts `$\\LaTeX$`) and **Code cells** (like the cell below with the `[1]` at the left.\n",
    "\n",
    "You can run and edit the notebook in Playground mode,\n",
    "or make a copy to ensure your edits are saved.\n",
    "\n",
    "Code cells can take any Python code and show the result (for simple commands,\n",
    "you don't need to `print`, it just shows up)."
   ]
  },
  {
   "cell_type": "code",
   "execution_count": 1,
   "metadata": {
    "colab": {
     "base_uri": "https://localhost:8080/",
     "height": 35
    },
    "colab_type": "code",
    "execution": {
     "iopub.execute_input": "2020-06-22T22:21:11.594579Z",
     "iopub.status.busy": "2020-06-22T22:21:11.583518Z",
     "iopub.status.idle": "2020-06-22T22:21:11.622347Z",
     "shell.execute_reply": "2020-06-22T22:21:11.623540Z"
    },
    "id": "7rw3vUS8Opz9",
    "outputId": "90f1e723-7507-4ba6-b4eb-4628b04b1886"
   },
   "outputs": [
    {
     "data": {
      "text/plain": [
       "2"
      ]
     },
     "execution_count": 1,
     "metadata": {},
     "output_type": "execute_result"
    }
   ],
   "source": [
    "1 + 1"
   ]
  },
  {
   "cell_type": "markdown",
   "metadata": {
    "colab_type": "text",
    "id": "6g2OqwJjO70z"
   },
   "source": [
    "Try getting your name to show up in the two cells below (note that strings require quotes, either single or double will do)."
   ]
  },
  {
   "cell_type": "code",
   "execution_count": 2,
   "metadata": {
    "colab": {},
    "colab_type": "code",
    "execution": {
     "iopub.execute_input": "2020-06-22T22:21:11.635351Z",
     "iopub.status.busy": "2020-06-22T22:21:11.633625Z",
     "iopub.status.idle": "2020-06-22T22:21:11.659730Z",
     "shell.execute_reply": "2020-06-22T22:21:11.658337Z"
    },
    "id": "KNBVkey5PF6N"
   },
   "outputs": [],
   "source": [
    "# This is a comment. Type your name in quotes below to create the variable.\n",
    "my_name = 'max'"
   ]
  },
  {
   "cell_type": "markdown",
   "metadata": {
    "colab_type": "text",
    "id": "Zu4jFkPzTETv"
   },
   "source": [
    "Now start typing `my_name`, but press Tab after `my`. Colab autocompletes known variables as well as function documentation."
   ]
  },
  {
   "cell_type": "code",
   "execution_count": 3,
   "metadata": {
    "colab": {
     "base_uri": "https://localhost:8080/",
     "height": 35
    },
    "colab_type": "code",
    "execution": {
     "iopub.execute_input": "2020-06-22T22:21:11.676809Z",
     "iopub.status.busy": "2020-06-22T22:21:11.676030Z",
     "iopub.status.idle": "2020-06-22T22:21:11.691018Z",
     "shell.execute_reply": "2020-06-22T22:21:11.690342Z"
    },
    "id": "S_02z_3HTDOz",
    "outputId": "712b4503-b31e-48d5-d461-8732b6c0f44f"
   },
   "outputs": [
    {
     "data": {
      "text/plain": [
       "'max'"
      ]
     },
     "execution_count": 3,
     "metadata": {},
     "output_type": "execute_result"
    }
   ],
   "source": [
    "my_name"
   ]
  },
  {
   "cell_type": "markdown",
   "metadata": {
    "colab_type": "text",
    "id": "wzyVNHFPPV68"
   },
   "source": [
    "Now add a code cell below this to create and print a variable called `my_hometown` with your hometown as a string; cells can have multiple lines of code each."
   ]
  },
  {
   "cell_type": "code",
   "execution_count": 4,
   "metadata": {
    "colab": {
     "base_uri": "https://localhost:8080/",
     "height": 35
    },
    "colab_type": "code",
    "execution": {
     "iopub.execute_input": "2020-06-22T22:21:11.708169Z",
     "iopub.status.busy": "2020-06-22T22:21:11.707386Z",
     "iopub.status.idle": "2020-06-22T22:21:11.719228Z",
     "shell.execute_reply": "2020-06-22T22:21:11.720413Z"
    },
    "id": "Owi27JWO4GZ6",
    "outputId": "123ae8aa-a9c7-4fde-ceb5-a38effb4a2d8"
   },
   "outputs": [
    {
     "data": {
      "text/plain": [
       "'Oxnard'"
      ]
     },
     "execution_count": 4,
     "metadata": {},
     "output_type": "execute_result"
    }
   ],
   "source": [
    "my_hometown = 'Oxnard'\n",
    "my_hometown"
   ]
  },
  {
   "cell_type": "markdown",
   "metadata": {
    "colab_type": "text",
    "id": "qfVQi0HqM6jv"
   },
   "source": [
    "## Python basics\n",
    "\n",
    "**Lists** are defined with square brackets, e.g. `[1, 3, -4]` and `['a', 'b', 'c']`.\n",
    "\n",
    "This is similar to `c(1, 3, 4)` and `c('a', 'b', 'c')` in `R`.\n",
    "\n",
    "*You can also put mismatching data types in Python lists,\n",
    "which makes them similar to R lists,\n",
    "but in most cases you won't need to do that.*"
   ]
  },
  {
   "cell_type": "code",
   "execution_count": 5,
   "metadata": {
    "colab": {
     "base_uri": "https://localhost:8080/",
     "height": 35
    },
    "colab_type": "code",
    "execution": {
     "iopub.execute_input": "2020-06-22T22:21:11.727699Z",
     "iopub.status.busy": "2020-06-22T22:21:11.725875Z",
     "iopub.status.idle": "2020-06-22T22:21:11.735490Z",
     "shell.execute_reply": "2020-06-22T22:21:11.736570Z"
    },
    "id": "Cp4_Db9_Nkv4",
    "outputId": "1f8f748a-66da-4f61-b127-da9adf8ea66d"
   },
   "outputs": [
    {
     "data": {
      "text/plain": [
       "[1, 3, 4]"
      ]
     },
     "execution_count": 5,
     "metadata": {},
     "output_type": "execute_result"
    }
   ],
   "source": [
    "l = [1, 3, 4]\n",
    "l"
   ]
  },
  {
   "cell_type": "markdown",
   "metadata": {
    "colab_type": "text",
    "id": "g4butg86PH39"
   },
   "source": [
    "You can get a specific element of a list using `list[element_number]` -- but note Python numbering starts at zero!"
   ]
  },
  {
   "cell_type": "code",
   "execution_count": 6,
   "metadata": {
    "colab": {
     "base_uri": "https://localhost:8080/",
     "height": 35
    },
    "colab_type": "code",
    "execution": {
     "iopub.execute_input": "2020-06-22T22:21:11.742153Z",
     "iopub.status.busy": "2020-06-22T22:21:11.739707Z",
     "iopub.status.idle": "2020-06-22T22:21:11.759948Z",
     "shell.execute_reply": "2020-06-22T22:21:11.761556Z"
    },
    "id": "R8kZBpV8PTl8",
    "outputId": "f8af5b75-0dd0-4fd2-925c-a9a91bd1d0a9"
   },
   "outputs": [
    {
     "data": {
      "text/plain": [
       "1"
      ]
     },
     "execution_count": 6,
     "metadata": {},
     "output_type": "execute_result"
    }
   ],
   "source": [
    "l[0]"
   ]
  },
  {
   "cell_type": "markdown",
   "metadata": {
    "colab_type": "text",
    "id": "d3JZDO2v46ak"
   },
   "source": [
    "This means it can only be accessed from elements `l[0]`, `l[1]`, and `l[2]`.\n",
    "\n",
    "We can test whether `l[3]` throws an error using the following code\n",
    "(this also allows the notebook to continue running, where leaving it as an\n",
    "error would halt it)."
   ]
  },
  {
   "cell_type": "code",
   "execution_count": 7,
   "metadata": {
    "colab": {
     "base_uri": "https://localhost:8080/",
     "height": 35
    },
    "colab_type": "code",
    "execution": {
     "iopub.execute_input": "2020-06-22T22:21:11.773566Z",
     "iopub.status.busy": "2020-06-22T22:21:11.765397Z",
     "iopub.status.idle": "2020-06-22T22:21:11.813269Z",
     "shell.execute_reply": "2020-06-22T22:21:11.813971Z"
    },
    "id": "53o8R1zpPXIS",
    "outputId": "46044572-0077-417f-d24d-670df39de296"
   },
   "outputs": [
    {
     "name": "stdout",
     "output_type": "stream",
     "text": [
      "List l cannot be accessed as l[3]\n"
     ]
    }
   ],
   "source": [
    "try:\n",
    "    l[3]\n",
    "except:\n",
    "    print('List l cannot be accessed as l[3]')"
   ]
  },
  {
   "cell_type": "markdown",
   "metadata": {
    "colab_type": "text",
    "id": "IOHWzDMNQrhQ"
   },
   "source": [
    "You can apply functions to each element of a list with a `for` loop, a technique called *list comprehension*.\n",
    "\n",
    "*We'll learn more data-analysis ways to do this soon.*"
   ]
  },
  {
   "cell_type": "code",
   "execution_count": 8,
   "metadata": {
    "colab": {
     "base_uri": "https://localhost:8080/",
     "height": 35
    },
    "colab_type": "code",
    "execution": {
     "iopub.execute_input": "2020-06-22T22:21:11.839160Z",
     "iopub.status.busy": "2020-06-22T22:21:11.838156Z",
     "iopub.status.idle": "2020-06-22T22:21:11.841691Z",
     "shell.execute_reply": "2020-06-22T22:21:11.839831Z"
    },
    "id": "kPLVS-nzQwD5",
    "outputId": "571cae39-82f0-44de-a53f-2c1fb886c117"
   },
   "outputs": [
    {
     "data": {
      "text/plain": [
       "[2, 6, 8]"
      ]
     },
     "execution_count": 8,
     "metadata": {},
     "output_type": "execute_result"
    }
   ],
   "source": [
    "[i * 2 for i in l]"
   ]
  },
  {
   "cell_type": "markdown",
   "metadata": {
    "colab_type": "text",
    "id": "DBg02ftrM5he"
   },
   "source": [
    "## Setup\n",
    "\n",
    "Python is a vast general-purpose language, so you have to use packages relevant to your field of study.\n",
    "\n",
    "For tabular data analysis, like what you'd do in R or Python, always\n",
    "load the `pandas` and `numpy` packages.\n",
    "`pandas` gives access to R-style `DataFrame`s, and `numpy` is\n",
    "the vector-math backbone for `pandas` that can also be used for\n",
    "random number generation, matrix math, logical operations, and more.\n",
    "\n",
    "![](https://miro.medium.com/max/800/1*9IU5fBzJisilYjRAi-f55Q.png)\n",
    "\n",
    "(`pandas` actually gets its name from `pan`el `da`ta)\n",
    "\n",
    "The `import` keyword loads packages."
   ]
  },
  {
   "cell_type": "code",
   "execution_count": 9,
   "metadata": {
    "colab": {},
    "colab_type": "code",
    "execution": {
     "iopub.execute_input": "2020-06-22T22:21:11.861119Z",
     "iopub.status.busy": "2020-06-22T22:21:11.853205Z",
     "iopub.status.idle": "2020-06-22T22:21:13.490653Z",
     "shell.execute_reply": "2020-06-22T22:21:13.489067Z"
    },
    "id": "eOS1eLwPLQfl"
   },
   "outputs": [],
   "source": [
    "import pandas\n",
    "import numpy"
   ]
  },
  {
   "cell_type": "code",
   "execution_count": 10,
   "metadata": {
    "colab": {
     "base_uri": "https://localhost:8080/",
     "height": 35
    },
    "colab_type": "code",
    "execution": {
     "iopub.execute_input": "2020-06-22T22:21:13.507508Z",
     "iopub.status.busy": "2020-06-22T22:21:13.506690Z",
     "iopub.status.idle": "2020-06-22T22:21:13.511484Z",
     "shell.execute_reply": "2020-06-22T22:21:13.512723Z"
    },
    "id": "34nDfBA3QhkC",
    "outputId": "dbf237b8-34b4-4b20-89d4-7c826406f713"
   },
   "outputs": [
    {
     "data": {
      "text/plain": [
       "2.718281828459045"
      ]
     },
     "execution_count": 10,
     "metadata": {},
     "output_type": "execute_result"
    }
   ],
   "source": [
    "numpy.exp(1)"
   ]
  },
  {
   "cell_type": "code",
   "execution_count": 11,
   "metadata": {
    "colab": {
     "base_uri": "https://localhost:8080/",
     "height": 35
    },
    "colab_type": "code",
    "execution": {
     "iopub.execute_input": "2020-06-22T22:21:13.525150Z",
     "iopub.status.busy": "2020-06-22T22:21:13.520870Z",
     "iopub.status.idle": "2020-06-22T22:21:13.530161Z",
     "shell.execute_reply": "2020-06-22T22:21:13.529545Z"
    },
    "id": "C1xfEZ6mOFoW",
    "outputId": "d066e813-dcc1-4e00-f164-56c9fae7a491"
   },
   "outputs": [
    {
     "data": {
      "text/plain": [
       "9"
      ]
     },
     "execution_count": 11,
     "metadata": {},
     "output_type": "execute_result"
    }
   ],
   "source": [
    "numpy.power(3, 2)"
   ]
  },
  {
   "cell_type": "markdown",
   "metadata": {
    "colab_type": "text",
    "id": "-rT5dXIuO2oG"
   },
   "source": [
    "### Aliases\n",
    "\n",
    "When loading a package, you can give it an **alias** with the `as` keyword to make it more concise to load.\n",
    "\n",
    "Widely used packages have canonical aliases, and `pandas` and `numpy` have been\n",
    "de facto assigned `pd` and `np`, respectively. Try this out here:\n",
    "\n",
    "(Also try hitting Tab after the `as`!)"
   ]
  },
  {
   "cell_type": "code",
   "execution_count": 12,
   "metadata": {
    "colab": {},
    "colab_type": "code",
    "execution": {
     "iopub.execute_input": "2020-06-22T22:21:13.536732Z",
     "iopub.status.busy": "2020-06-22T22:21:13.535950Z",
     "iopub.status.idle": "2020-06-22T22:21:13.543003Z",
     "shell.execute_reply": "2020-06-22T22:21:13.541638Z"
    },
    "id": "QtFJ3oMMMpvK"
   },
   "outputs": [],
   "source": [
    "import pandas as pd\n",
    "import numpy as np"
   ]
  },
  {
   "cell_type": "markdown",
   "metadata": {
    "colab_type": "text",
    "id": "OynqK4imREyO"
   },
   "source": [
    "Now you can call functions and constants in the packages using the shorter aliases."
   ]
  },
  {
   "cell_type": "code",
   "execution_count": 13,
   "metadata": {
    "colab": {
     "base_uri": "https://localhost:8080/",
     "height": 35
    },
    "colab_type": "code",
    "execution": {
     "iopub.execute_input": "2020-06-22T22:21:13.554617Z",
     "iopub.status.busy": "2020-06-22T22:21:13.553141Z",
     "iopub.status.idle": "2020-06-22T22:21:13.561855Z",
     "shell.execute_reply": "2020-06-22T22:21:13.561098Z"
    },
    "id": "hkkgUkqiQ1wj",
    "outputId": "a2b307cc-3b4f-4a5a-9599-7e1489d54495"
   },
   "outputs": [
    {
     "data": {
      "text/plain": [
       "1.0"
      ]
     },
     "execution_count": 13,
     "metadata": {},
     "output_type": "execute_result"
    }
   ],
   "source": [
    "np.sin(np.pi / 2)"
   ]
  },
  {
   "cell_type": "markdown",
   "metadata": {
    "colab_type": "text",
    "id": "zCCcT4bQSNkq"
   },
   "source": [
    "### Loading modules and functions\n",
    "\n",
    "*Note: Not needed for today's class, but will be good to know for viewing other Python code.*\n",
    "\n",
    "Some packages have multiple *modules*, or sets of related functions, which can be loaded separately. For example, `numpy`'s `random` module contains functions\n",
    "for generating random numbers."
   ]
  },
  {
   "cell_type": "code",
   "execution_count": 14,
   "metadata": {
    "colab": {},
    "colab_type": "code",
    "execution": {
     "iopub.execute_input": "2020-06-22T22:21:13.569871Z",
     "iopub.status.busy": "2020-06-22T22:21:13.569030Z",
     "iopub.status.idle": "2020-06-22T22:21:13.576115Z",
     "shell.execute_reply": "2020-06-22T22:21:13.575510Z"
    },
    "id": "GDhFgMl2Sp8k"
   },
   "outputs": [],
   "source": [
    "from numpy import random"
   ]
  },
  {
   "cell_type": "markdown",
   "metadata": {
    "colab_type": "text",
    "id": "3lkt9sNJX6Dx"
   },
   "source": [
    "You can even import specific functions from packages or modules.\n",
    "For example, `randn` generates numbers from the standard normal distribution."
   ]
  },
  {
   "cell_type": "code",
   "execution_count": 15,
   "metadata": {
    "colab": {},
    "colab_type": "code",
    "execution": {
     "iopub.execute_input": "2020-06-22T22:21:13.584080Z",
     "iopub.status.busy": "2020-06-22T22:21:13.582334Z",
     "iopub.status.idle": "2020-06-22T22:21:13.585842Z",
     "shell.execute_reply": "2020-06-22T22:21:13.589126Z"
    },
    "id": "uuCaJKFNX7LC"
   },
   "outputs": [],
   "source": [
    "from numpy.random import randn"
   ]
  },
  {
   "cell_type": "markdown",
   "metadata": {
    "colab_type": "text",
    "id": "PbNlYDE7XSYm"
   },
   "source": [
    "Now each of these three function calls does the same thing:\n",
    "generate 10 random numbers from the standard normal distribution."
   ]
  },
  {
   "cell_type": "code",
   "execution_count": 16,
   "metadata": {
    "colab": {
     "base_uri": "https://localhost:8080/",
     "height": 54
    },
    "colab_type": "code",
    "execution": {
     "iopub.execute_input": "2020-06-22T22:21:13.598647Z",
     "iopub.status.busy": "2020-06-22T22:21:13.597797Z",
     "iopub.status.idle": "2020-06-22T22:21:13.604144Z",
     "shell.execute_reply": "2020-06-22T22:21:13.603473Z"
    },
    "id": "xc44pJ4gW_VI",
    "outputId": "a4fac0d3-5b45-43d3-c6dc-29f0f0ed2cac"
   },
   "outputs": [
    {
     "data": {
      "text/plain": [
       "array([ 0.47424344,  0.19053362, -0.71664784, -0.01791951,  0.592452  ,\n",
       "        2.16598529,  0.09118215,  0.77634684,  0.43959248,  0.3450288 ])"
      ]
     },
     "execution_count": 16,
     "metadata": {},
     "output_type": "execute_result"
    }
   ],
   "source": [
    "randn(10)"
   ]
  },
  {
   "cell_type": "code",
   "execution_count": 17,
   "metadata": {
    "colab": {
     "base_uri": "https://localhost:8080/",
     "height": 54
    },
    "colab_type": "code",
    "execution": {
     "iopub.execute_input": "2020-06-22T22:21:13.612109Z",
     "iopub.status.busy": "2020-06-22T22:21:13.611333Z",
     "iopub.status.idle": "2020-06-22T22:21:13.619289Z",
     "shell.execute_reply": "2020-06-22T22:21:13.619913Z"
    },
    "id": "-KPkeICXSriE",
    "outputId": "709bd82d-18df-4c26-c878-53ee43b86168"
   },
   "outputs": [
    {
     "data": {
      "text/plain": [
       "array([-1.18351661,  0.301056  , -0.05687383, -1.23490662, -0.55099681,\n",
       "        0.0052964 , -0.92329022, -0.87117609, -0.59551334, -0.34523735])"
      ]
     },
     "execution_count": 17,
     "metadata": {},
     "output_type": "execute_result"
    }
   ],
   "source": [
    "random.randn(10)"
   ]
  },
  {
   "cell_type": "code",
   "execution_count": 18,
   "metadata": {
    "colab": {
     "base_uri": "https://localhost:8080/",
     "height": 54
    },
    "colab_type": "code",
    "execution": {
     "iopub.execute_input": "2020-06-22T22:21:13.637306Z",
     "iopub.status.busy": "2020-06-22T22:21:13.634382Z",
     "iopub.status.idle": "2020-06-22T22:21:13.639689Z",
     "shell.execute_reply": "2020-06-22T22:21:13.640376Z"
    },
    "id": "awOs07UDSYKT",
    "outputId": "0c621b6f-7fb3-474e-a922-e310423738f5"
   },
   "outputs": [
    {
     "data": {
      "text/plain": [
       "array([-0.70231322,  0.40083712,  1.75805552, -1.33277897, -0.5209896 ,\n",
       "        0.19121448, -0.55535564, -1.95904585, -0.53284146, -1.06098545])"
      ]
     },
     "execution_count": 18,
     "metadata": {},
     "output_type": "execute_result"
    }
   ],
   "source": [
    "# Type out the third, using the np prefix from before.\n",
    "# Also try using tab after the dots for code completion and and open parenthesis\n",
    "# for function documentation.\n",
    "# ANSWER:\n",
    "np.random.randn(10)"
   ]
  },
  {
   "cell_type": "markdown",
   "metadata": {
    "colab_type": "text",
    "id": "zpAO9jbZRKRD"
   },
   "source": [
    "## Vector operations in `numpy` and `pandas`\n",
    "\n",
    "Vector/array operations are integral to scientific computing in Python. Like `gen` in Stata and `apply` in R, `numpy` and `pandas` include rich\n",
    "sets of vectorized functions to run common code over records quickly.\n",
    "\n",
    "One way to take advantage of this is to pass lists to `numpy` functions; this often produces a new `array` with the same number of elements."
   ]
  },
  {
   "cell_type": "code",
   "execution_count": 19,
   "metadata": {
    "colab": {
     "base_uri": "https://localhost:8080/",
     "height": 35
    },
    "colab_type": "code",
    "execution": {
     "iopub.execute_input": "2020-06-22T22:21:13.658281Z",
     "iopub.status.busy": "2020-06-22T22:21:13.653258Z",
     "iopub.status.idle": "2020-06-22T22:21:13.663558Z",
     "shell.execute_reply": "2020-06-22T22:21:13.662941Z"
    },
    "id": "m1kh4rwaY_4U",
    "outputId": "76605290-8a52-48aa-d387-854a8e99cb7a"
   },
   "outputs": [
    {
     "data": {
      "text/plain": [
       "array([1.        , 2.71828183, 7.3890561 ])"
      ]
     },
     "execution_count": 19,
     "metadata": {},
     "output_type": "execute_result"
    }
   ],
   "source": [
    "np.exp([0, 1, 2])"
   ]
  },
  {
   "cell_type": "markdown",
   "metadata": {
    "colab_type": "text",
    "id": "I034bEDZZ4ok"
   },
   "source": [
    "Arrays can be passed into other functions, and aggregated!"
   ]
  },
  {
   "cell_type": "code",
   "execution_count": 20,
   "metadata": {
    "colab": {
     "base_uri": "https://localhost:8080/",
     "height": 35
    },
    "colab_type": "code",
    "execution": {
     "iopub.execute_input": "2020-06-22T22:21:13.680718Z",
     "iopub.status.busy": "2020-06-22T22:21:13.678740Z",
     "iopub.status.idle": "2020-06-22T22:21:13.689212Z",
     "shell.execute_reply": "2020-06-22T22:21:13.688598Z"
    },
    "id": "CkIV6TkyZ20x",
    "outputId": "271d62d4-4ded-4744-a8f8-751cc49ab057"
   },
   "outputs": [
    {
     "data": {
      "text/plain": [
       "11.107337927389695"
      ]
     },
     "execution_count": 20,
     "metadata": {},
     "output_type": "execute_result"
    }
   ],
   "source": [
    "np.exp([0, 1, 2]).sum()"
   ]
  },
  {
   "cell_type": "markdown",
   "metadata": {
    "colab_type": "text",
    "id": "iagQKds6Y1EO"
   },
   "source": [
    "**Exercise:** If Jamie invests \\$1 per year and gets 5% return each year, how much will they have after 3 years?\n",
    "\n",
    "Here's a brute-force way, but how can you use lists?"
   ]
  },
  {
   "cell_type": "code",
   "execution_count": 21,
   "metadata": {
    "colab": {
     "base_uri": "https://localhost:8080/",
     "height": 35
    },
    "colab_type": "code",
    "execution": {
     "iopub.execute_input": "2020-06-22T22:21:13.697025Z",
     "iopub.status.busy": "2020-06-22T22:21:13.696222Z",
     "iopub.status.idle": "2020-06-22T22:21:13.705158Z",
     "shell.execute_reply": "2020-06-22T22:21:13.704548Z"
    },
    "id": "rheasAnvZy9b",
    "outputId": "9e348ee5-17e9-433e-9034-c39dc819def2"
   },
   "outputs": [
    {
     "data": {
      "text/plain": [
       "3.310125"
      ]
     },
     "execution_count": 21,
     "metadata": {},
     "output_type": "execute_result"
    }
   ],
   "source": [
    "np.power(1.05, 1) + np.power(1.05, 2) + np.power(1.05, 3)"
   ]
  },
  {
   "cell_type": "code",
   "execution_count": 22,
   "metadata": {
    "colab": {
     "base_uri": "https://localhost:8080/",
     "height": 35
    },
    "colab_type": "code",
    "execution": {
     "iopub.execute_input": "2020-06-22T22:21:13.716958Z",
     "iopub.status.busy": "2020-06-22T22:21:13.716046Z",
     "iopub.status.idle": "2020-06-22T22:21:13.727973Z",
     "shell.execute_reply": "2020-06-22T22:21:13.726273Z"
    },
    "id": "4AaCMcbqR9ho",
    "outputId": "45cb28db-7690-4eef-f15e-98307f75ac3f"
   },
   "outputs": [
    {
     "data": {
      "text/plain": [
       "3.310125"
      ]
     },
     "execution_count": 22,
     "metadata": {},
     "output_type": "execute_result"
    }
   ],
   "source": [
    "# Try to do the same more concisely by passing a list to `np.power`.\n",
    "# ANSWER:\n",
    "np.power(1.05, [1, 2, 3]).sum()"
   ]
  },
  {
   "cell_type": "markdown",
   "metadata": {
    "colab_type": "text",
    "id": "W64IRDI9MSXf"
   },
   "source": [
    "## Exploratory analysis in `pandas`\n",
    "\n",
    "Time for real data! Let's import data to use in the regression analysis, using the `pandas` `read_csv` function. `read_csv` takes local file paths or URLs, and automatically decompresses files.\n",
    "\n",
    "Since this is a large file, we'll start by saving the raw file, and then creating a copy to work with. If you mess something up with `cps`, just re-run starting with the `cps = ` cell to avoid re-downloading it."
   ]
  },
  {
   "cell_type": "code",
   "execution_count": 23,
   "metadata": {
    "colab": {},
    "colab_type": "code",
    "execution": {
     "iopub.execute_input": "2020-06-22T22:21:13.739489Z",
     "iopub.status.busy": "2020-06-22T22:21:13.738710Z",
     "iopub.status.idle": "2020-06-22T22:21:24.761625Z",
     "shell.execute_reply": "2020-06-22T22:21:24.760922Z"
    },
    "id": "VtzMCUExMb1s"
   },
   "outputs": [],
   "source": [
    "cps_raw = pd.read_csv('https://github.com/UBICenter/pfd_spm/raw/master/data/spm_state.csv.gz')"
   ]
  },
  {
   "cell_type": "code",
   "execution_count": 24,
   "metadata": {
    "colab": {},
    "colab_type": "code",
    "execution": {
     "iopub.execute_input": "2020-06-22T22:21:24.768669Z",
     "iopub.status.busy": "2020-06-22T22:21:24.767864Z",
     "iopub.status.idle": "2020-06-22T22:21:24.861121Z",
     "shell.execute_reply": "2020-06-22T22:21:24.865535Z"
    },
    "id": "2oSKxggXVDBD"
   },
   "outputs": [],
   "source": [
    "cps = cps_raw.copy(deep=True)  # This creates a real copy (not a reference)."
   ]
  },
  {
   "cell_type": "markdown",
   "metadata": {
    "colab_type": "text",
    "id": "0YQ2KwZesRVb"
   },
   "source": [
    "`cps` is now a `pandas` `DataFrame` object.\n",
    "\n",
    "We can see the first and last five records by just printing the dataset."
   ]
  },
  {
   "cell_type": "code",
   "execution_count": 25,
   "metadata": {
    "colab": {
     "base_uri": "https://localhost:8080/",
     "height": 415
    },
    "colab_type": "code",
    "execution": {
     "iopub.execute_input": "2020-06-22T22:21:24.901163Z",
     "iopub.status.busy": "2020-06-22T22:21:24.900364Z",
     "iopub.status.idle": "2020-06-22T22:21:24.930641Z",
     "shell.execute_reply": "2020-06-22T22:21:24.929990Z"
    },
    "id": "gLFLH5uisWpO",
    "outputId": "ea5fc393-a5a9-4e96-b692-a93d6de95bd6"
   },
   "outputs": [
    {
     "data": {
      "text/html": [
       "<div>\n",
       "<style scoped>\n",
       "    .dataframe tbody tr th:only-of-type {\n",
       "        vertical-align: middle;\n",
       "    }\n",
       "\n",
       "    .dataframe tbody tr th {\n",
       "        vertical-align: top;\n",
       "    }\n",
       "\n",
       "    .dataframe thead th {\n",
       "        text-align: right;\n",
       "    }\n",
       "</style>\n",
       "<table border=\"1\" class=\"dataframe\">\n",
       "  <thead>\n",
       "    <tr style=\"text-align: right;\">\n",
       "      <th></th>\n",
       "      <th>year</th>\n",
       "      <th>statefip</th>\n",
       "      <th>age</th>\n",
       "      <th>female</th>\n",
       "      <th>poor</th>\n",
       "      <th>w</th>\n",
       "    </tr>\n",
       "  </thead>\n",
       "  <tbody>\n",
       "    <tr>\n",
       "      <th>0</th>\n",
       "      <td>1967</td>\n",
       "      <td>39</td>\n",
       "      <td>40</td>\n",
       "      <td>True</td>\n",
       "      <td>0</td>\n",
       "      <td>1178.96</td>\n",
       "    </tr>\n",
       "    <tr>\n",
       "      <th>1</th>\n",
       "      <td>1967</td>\n",
       "      <td>70</td>\n",
       "      <td>29</td>\n",
       "      <td>False</td>\n",
       "      <td>0</td>\n",
       "      <td>1375.98</td>\n",
       "    </tr>\n",
       "    <tr>\n",
       "      <th>2</th>\n",
       "      <td>1967</td>\n",
       "      <td>70</td>\n",
       "      <td>79</td>\n",
       "      <td>True</td>\n",
       "      <td>0</td>\n",
       "      <td>1226.91</td>\n",
       "    </tr>\n",
       "    <tr>\n",
       "      <th>3</th>\n",
       "      <td>1967</td>\n",
       "      <td>70</td>\n",
       "      <td>58</td>\n",
       "      <td>False</td>\n",
       "      <td>0</td>\n",
       "      <td>1385.21</td>\n",
       "    </tr>\n",
       "    <tr>\n",
       "      <th>4</th>\n",
       "      <td>1967</td>\n",
       "      <td>70</td>\n",
       "      <td>2</td>\n",
       "      <td>True</td>\n",
       "      <td>0</td>\n",
       "      <td>1304.57</td>\n",
       "    </tr>\n",
       "    <tr>\n",
       "      <th>...</th>\n",
       "      <td>...</td>\n",
       "      <td>...</td>\n",
       "      <td>...</td>\n",
       "      <td>...</td>\n",
       "      <td>...</td>\n",
       "      <td>...</td>\n",
       "    </tr>\n",
       "    <tr>\n",
       "      <th>8192119</th>\n",
       "      <td>2015</td>\n",
       "      <td>20</td>\n",
       "      <td>3</td>\n",
       "      <td>True</td>\n",
       "      <td>0</td>\n",
       "      <td>964.95</td>\n",
       "    </tr>\n",
       "    <tr>\n",
       "      <th>8192120</th>\n",
       "      <td>2015</td>\n",
       "      <td>20</td>\n",
       "      <td>40</td>\n",
       "      <td>True</td>\n",
       "      <td>0</td>\n",
       "      <td>1045.34</td>\n",
       "    </tr>\n",
       "    <tr>\n",
       "      <th>8192121</th>\n",
       "      <td>2015</td>\n",
       "      <td>20</td>\n",
       "      <td>16</td>\n",
       "      <td>False</td>\n",
       "      <td>0</td>\n",
       "      <td>1001.97</td>\n",
       "    </tr>\n",
       "    <tr>\n",
       "      <th>8192122</th>\n",
       "      <td>2015</td>\n",
       "      <td>20</td>\n",
       "      <td>5</td>\n",
       "      <td>True</td>\n",
       "      <td>0</td>\n",
       "      <td>1056.78</td>\n",
       "    </tr>\n",
       "    <tr>\n",
       "      <th>8192123</th>\n",
       "      <td>2015</td>\n",
       "      <td>15</td>\n",
       "      <td>56</td>\n",
       "      <td>True</td>\n",
       "      <td>0</td>\n",
       "      <td>325.59</td>\n",
       "    </tr>\n",
       "  </tbody>\n",
       "</table>\n",
       "<p>8192124 rows × 6 columns</p>\n",
       "</div>"
      ],
      "text/plain": [
       "         year  statefip  age  female  poor        w\n",
       "0        1967        39   40    True     0  1178.96\n",
       "1        1967        70   29   False     0  1375.98\n",
       "2        1967        70   79    True     0  1226.91\n",
       "3        1967        70   58   False     0  1385.21\n",
       "4        1967        70    2    True     0  1304.57\n",
       "...       ...       ...  ...     ...   ...      ...\n",
       "8192119  2015        20    3    True     0   964.95\n",
       "8192120  2015        20   40    True     0  1045.34\n",
       "8192121  2015        20   16   False     0  1001.97\n",
       "8192122  2015        20    5    True     0  1056.78\n",
       "8192123  2015        15   56    True     0   325.59\n",
       "\n",
       "[8192124 rows x 6 columns]"
      ]
     },
     "execution_count": 25,
     "metadata": {},
     "output_type": "execute_result"
    }
   ],
   "source": [
    "cps"
   ]
  },
  {
   "cell_type": "markdown",
   "metadata": {
    "colab_type": "text",
    "id": "hw-52VluuhEF"
   },
   "source": [
    "This microdata file is a combination of (a) historical Supplemental Poverty Measure (SPM) estimates from the Columbia Center on Poverty and Social Policy, and (b) demographics from the Current Population Survey March Supplement (ASEC) files, from IPUMS. It has the following columns:\n",
    "* **`year`**: Year; covers 1967 to 2015. (Reporting year, not the following year the survey was administered, as CPS IPUMS defines `year`.)\n",
    "* **`statefip`**: FIPS code for the respondent's US state of residence.\n",
    "* **`age`**: Respondent age.\n",
    "* **`female`**: Whether respondent is female.\n",
    "* **`poor`**: Whether the respondent's SPM unit (comparable to household) has resources below their SPM poverty threshold.\n",
    "* **`w`**: Respondent's survey weight.\n",
    "\n",
    "We can see summary statistics with the `describe` command."
   ]
  },
  {
   "cell_type": "code",
   "execution_count": 26,
   "metadata": {
    "colab": {
     "base_uri": "https://localhost:8080/",
     "height": 294
    },
    "colab_type": "code",
    "execution": {
     "iopub.execute_input": "2020-06-22T22:21:25.216923Z",
     "iopub.status.busy": "2020-06-22T22:21:25.216065Z",
     "iopub.status.idle": "2020-06-22T22:21:27.290192Z",
     "shell.execute_reply": "2020-06-22T22:21:27.289438Z"
    },
    "id": "bkOF1WDAsPc6",
    "outputId": "cca35c12-5236-4a5f-fe95-539bc53da1ea"
   },
   "outputs": [
    {
     "data": {
      "text/html": [
       "<div>\n",
       "<style scoped>\n",
       "    .dataframe tbody tr th:only-of-type {\n",
       "        vertical-align: middle;\n",
       "    }\n",
       "\n",
       "    .dataframe tbody tr th {\n",
       "        vertical-align: top;\n",
       "    }\n",
       "\n",
       "    .dataframe thead th {\n",
       "        text-align: right;\n",
       "    }\n",
       "</style>\n",
       "<table border=\"1\" class=\"dataframe\">\n",
       "  <thead>\n",
       "    <tr style=\"text-align: right;\">\n",
       "      <th></th>\n",
       "      <th>year</th>\n",
       "      <th>statefip</th>\n",
       "      <th>age</th>\n",
       "      <th>poor</th>\n",
       "      <th>w</th>\n",
       "    </tr>\n",
       "  </thead>\n",
       "  <tbody>\n",
       "    <tr>\n",
       "      <th>count</th>\n",
       "      <td>8.192124e+06</td>\n",
       "      <td>8.192124e+06</td>\n",
       "      <td>8.192124e+06</td>\n",
       "      <td>8.192124e+06</td>\n",
       "      <td>8.192070e+06</td>\n",
       "    </tr>\n",
       "    <tr>\n",
       "      <th>mean</th>\n",
       "      <td>1.992533e+03</td>\n",
       "      <td>3.098111e+01</td>\n",
       "      <td>3.372562e+01</td>\n",
       "      <td>1.755193e-01</td>\n",
       "      <td>1.520348e+03</td>\n",
       "    </tr>\n",
       "    <tr>\n",
       "      <th>std</th>\n",
       "      <td>1.421549e+01</td>\n",
       "      <td>1.932314e+01</td>\n",
       "      <td>2.207534e+01</td>\n",
       "      <td>3.804107e-01</td>\n",
       "      <td>8.664273e+02</td>\n",
       "    </tr>\n",
       "    <tr>\n",
       "      <th>min</th>\n",
       "      <td>1.967000e+03</td>\n",
       "      <td>1.000000e+00</td>\n",
       "      <td>0.000000e+00</td>\n",
       "      <td>0.000000e+00</td>\n",
       "      <td>0.000000e+00</td>\n",
       "    </tr>\n",
       "    <tr>\n",
       "      <th>25%</th>\n",
       "      <td>1.980000e+03</td>\n",
       "      <td>1.500000e+01</td>\n",
       "      <td>1.500000e+01</td>\n",
       "      <td>0.000000e+00</td>\n",
       "      <td>9.870200e+02</td>\n",
       "    </tr>\n",
       "    <tr>\n",
       "      <th>50%</th>\n",
       "      <td>1.993000e+03</td>\n",
       "      <td>3.100000e+01</td>\n",
       "      <td>3.200000e+01</td>\n",
       "      <td>0.000000e+00</td>\n",
       "      <td>1.447940e+03</td>\n",
       "    </tr>\n",
       "    <tr>\n",
       "      <th>75%</th>\n",
       "      <td>2.005000e+03</td>\n",
       "      <td>4.200000e+01</td>\n",
       "      <td>5.000000e+01</td>\n",
       "      <td>0.000000e+00</td>\n",
       "      <td>1.880740e+03</td>\n",
       "    </tr>\n",
       "    <tr>\n",
       "      <th>max</th>\n",
       "      <td>2.015000e+03</td>\n",
       "      <td>9.900000e+01</td>\n",
       "      <td>9.900000e+01</td>\n",
       "      <td>1.000000e+00</td>\n",
       "      <td>1.998275e+04</td>\n",
       "    </tr>\n",
       "  </tbody>\n",
       "</table>\n",
       "</div>"
      ],
      "text/plain": [
       "               year      statefip           age          poor             w\n",
       "count  8.192124e+06  8.192124e+06  8.192124e+06  8.192124e+06  8.192070e+06\n",
       "mean   1.992533e+03  3.098111e+01  3.372562e+01  1.755193e-01  1.520348e+03\n",
       "std    1.421549e+01  1.932314e+01  2.207534e+01  3.804107e-01  8.664273e+02\n",
       "min    1.967000e+03  1.000000e+00  0.000000e+00  0.000000e+00  0.000000e+00\n",
       "25%    1.980000e+03  1.500000e+01  1.500000e+01  0.000000e+00  9.870200e+02\n",
       "50%    1.993000e+03  3.100000e+01  3.200000e+01  0.000000e+00  1.447940e+03\n",
       "75%    2.005000e+03  4.200000e+01  5.000000e+01  0.000000e+00  1.880740e+03\n",
       "max    2.015000e+03  9.900000e+01  9.900000e+01  1.000000e+00  1.998275e+04"
      ]
     },
     "execution_count": 26,
     "metadata": {},
     "output_type": "execute_result"
    }
   ],
   "source": [
    "cps.describe()"
   ]
  },
  {
   "cell_type": "markdown",
   "metadata": {
    "colab_type": "text",
    "id": "jKyhq0Y1whAl"
   },
   "source": [
    "***Interpretation question:*** What share of *records* is poor in the dataset? Does this represent the average poverty rate over the period?\n",
    "\n",
    "ANSWER: 17.55% of records are poor (mean of `poor`).\n",
    "The average poverty rate will differ, as it will have to be weighted by `w`."
   ]
  },
  {
   "cell_type": "markdown",
   "metadata": {
    "colab_type": "text",
    "id": "6EemBZbTxMUG"
   },
   "source": [
    "### Working with `pandas` `DataFrame`s\n",
    "\n",
    "To get a single column from a `DataFrame`, use `df['column_name']`."
   ]
  },
  {
   "cell_type": "code",
   "execution_count": 27,
   "metadata": {
    "colab": {
     "base_uri": "https://localhost:8080/",
     "height": 241
    },
    "colab_type": "code",
    "execution": {
     "iopub.execute_input": "2020-06-22T22:21:27.306692Z",
     "iopub.status.busy": "2020-06-22T22:21:27.305915Z",
     "iopub.status.idle": "2020-06-22T22:21:27.318210Z",
     "shell.execute_reply": "2020-06-22T22:21:27.317588Z"
    },
    "id": "f_H52uPUP5CZ",
    "outputId": "e2429af5-8860-42df-a463-189edab418d2"
   },
   "outputs": [
    {
     "data": {
      "text/plain": [
       "0          1967\n",
       "1          1967\n",
       "2          1967\n",
       "3          1967\n",
       "4          1967\n",
       "           ... \n",
       "8192119    2015\n",
       "8192120    2015\n",
       "8192121    2015\n",
       "8192122    2015\n",
       "8192123    2015\n",
       "Name: year, Length: 8192124, dtype: int64"
      ]
     },
     "execution_count": 27,
     "metadata": {},
     "output_type": "execute_result"
    }
   ],
   "source": [
    "cps['year']"
   ]
  },
  {
   "cell_type": "markdown",
   "metadata": {
    "colab_type": "text",
    "id": "j5xcCxpEQoen"
   },
   "source": [
    "You can manipulate these directly--no `for` loops needed. For example, here's a column representing $age^2$."
   ]
  },
  {
   "cell_type": "code",
   "execution_count": 28,
   "metadata": {
    "colab": {
     "base_uri": "https://localhost:8080/",
     "height": 241
    },
    "colab_type": "code",
    "execution": {
     "iopub.execute_input": "2020-06-22T22:21:27.326035Z",
     "iopub.status.busy": "2020-06-22T22:21:27.325289Z",
     "iopub.status.idle": "2020-06-22T22:21:27.381666Z",
     "shell.execute_reply": "2020-06-22T22:21:27.381039Z"
    },
    "id": "pJsK7JMHOyN2",
    "outputId": "e47892f9-5142-4d8a-ce13-80350045fdf1"
   },
   "outputs": [
    {
     "data": {
      "text/plain": [
       "0          1600\n",
       "1           841\n",
       "2          6241\n",
       "3          3364\n",
       "4             4\n",
       "           ... \n",
       "8192119       9\n",
       "8192120    1600\n",
       "8192121     256\n",
       "8192122      25\n",
       "8192123    3136\n",
       "Name: age, Length: 8192124, dtype: int64"
      ]
     },
     "execution_count": 28,
     "metadata": {},
     "output_type": "execute_result"
    }
   ],
   "source": [
    "cps['age'] ** 2"
   ]
  },
  {
   "cell_type": "markdown",
   "metadata": {
    "colab_type": "text",
    "id": "htv7gb-tS9S5"
   },
   "source": [
    "The syntax to add or revise a column is the same: `df['column'] = values` (no `<-` like in `R`!).\n",
    "\n",
    "Since the treatment group is individuals in Alaska, we'll need a flag to identify them. Noting that Alaska is FIPS code 2, let's add this here."
   ]
  },
  {
   "cell_type": "code",
   "execution_count": 29,
   "metadata": {
    "colab": {},
    "colab_type": "code",
    "execution": {
     "iopub.execute_input": "2020-06-22T22:21:27.392409Z",
     "iopub.status.busy": "2020-06-22T22:21:27.391581Z",
     "iopub.status.idle": "2020-06-22T22:21:27.412602Z",
     "shell.execute_reply": "2020-06-22T22:21:27.411962Z"
    },
    "id": "3U27BRv7REPt"
   },
   "outputs": [],
   "source": [
    "cps['alaska'] = cps['statefip'] == 2"
   ]
  },
  {
   "cell_type": "markdown",
   "metadata": {
    "colab_type": "text",
    "id": "4cLBf53mVU50"
   },
   "source": [
    "To select multiple columns, use double-brackets:\n",
    "`df[['col1', 'col2']]`. This is really telling `pandas`,\n",
    "\"I'm giving you a list of column names, give me a `DataFrame`\n",
    "with those columns.\"\n",
    "\n",
    "Let's use that to check how our `alaska` assignment worked."
   ]
  },
  {
   "cell_type": "code",
   "execution_count": 30,
   "metadata": {
    "colab": {
     "base_uri": "https://localhost:8080/",
     "height": 415
    },
    "colab_type": "code",
    "execution": {
     "iopub.execute_input": "2020-06-22T22:21:27.420145Z",
     "iopub.status.busy": "2020-06-22T22:21:27.418207Z",
     "iopub.status.idle": "2020-06-22T22:21:27.485184Z",
     "shell.execute_reply": "2020-06-22T22:21:27.484529Z"
    },
    "id": "7RvKTP29VTzv",
    "outputId": "4aef91ed-53e9-43eb-b460-2d8d78bcfdc3"
   },
   "outputs": [
    {
     "data": {
      "text/html": [
       "<div>\n",
       "<style scoped>\n",
       "    .dataframe tbody tr th:only-of-type {\n",
       "        vertical-align: middle;\n",
       "    }\n",
       "\n",
       "    .dataframe tbody tr th {\n",
       "        vertical-align: top;\n",
       "    }\n",
       "\n",
       "    .dataframe thead th {\n",
       "        text-align: right;\n",
       "    }\n",
       "</style>\n",
       "<table border=\"1\" class=\"dataframe\">\n",
       "  <thead>\n",
       "    <tr style=\"text-align: right;\">\n",
       "      <th></th>\n",
       "      <th>statefip</th>\n",
       "      <th>alaska</th>\n",
       "    </tr>\n",
       "  </thead>\n",
       "  <tbody>\n",
       "    <tr>\n",
       "      <th>0</th>\n",
       "      <td>39</td>\n",
       "      <td>False</td>\n",
       "    </tr>\n",
       "    <tr>\n",
       "      <th>1</th>\n",
       "      <td>70</td>\n",
       "      <td>False</td>\n",
       "    </tr>\n",
       "    <tr>\n",
       "      <th>2</th>\n",
       "      <td>70</td>\n",
       "      <td>False</td>\n",
       "    </tr>\n",
       "    <tr>\n",
       "      <th>3</th>\n",
       "      <td>70</td>\n",
       "      <td>False</td>\n",
       "    </tr>\n",
       "    <tr>\n",
       "      <th>4</th>\n",
       "      <td>70</td>\n",
       "      <td>False</td>\n",
       "    </tr>\n",
       "    <tr>\n",
       "      <th>...</th>\n",
       "      <td>...</td>\n",
       "      <td>...</td>\n",
       "    </tr>\n",
       "    <tr>\n",
       "      <th>8192119</th>\n",
       "      <td>20</td>\n",
       "      <td>False</td>\n",
       "    </tr>\n",
       "    <tr>\n",
       "      <th>8192120</th>\n",
       "      <td>20</td>\n",
       "      <td>False</td>\n",
       "    </tr>\n",
       "    <tr>\n",
       "      <th>8192121</th>\n",
       "      <td>20</td>\n",
       "      <td>False</td>\n",
       "    </tr>\n",
       "    <tr>\n",
       "      <th>8192122</th>\n",
       "      <td>20</td>\n",
       "      <td>False</td>\n",
       "    </tr>\n",
       "    <tr>\n",
       "      <th>8192123</th>\n",
       "      <td>15</td>\n",
       "      <td>False</td>\n",
       "    </tr>\n",
       "  </tbody>\n",
       "</table>\n",
       "<p>8192124 rows × 2 columns</p>\n",
       "</div>"
      ],
      "text/plain": [
       "         statefip  alaska\n",
       "0              39   False\n",
       "1              70   False\n",
       "2              70   False\n",
       "3              70   False\n",
       "4              70   False\n",
       "...           ...     ...\n",
       "8192119        20   False\n",
       "8192120        20   False\n",
       "8192121        20   False\n",
       "8192122        20   False\n",
       "8192123        15   False\n",
       "\n",
       "[8192124 rows x 2 columns]"
      ]
     },
     "execution_count": 30,
     "metadata": {},
     "output_type": "execute_result"
    }
   ],
   "source": [
    "cps[['statefip', 'alaska']]"
   ]
  },
  {
   "cell_type": "markdown",
   "metadata": {
    "colab_type": "text",
    "id": "2pBLUd24XkV1"
   },
   "source": [
    "That's not so helpful, given the number of rows.\n",
    "\n",
    "Instead a good way to check is the `groupby` function.\n",
    "We don't have time to go through the full power of `groupby`, but let's see one example."
   ]
  },
  {
   "cell_type": "code",
   "execution_count": 31,
   "metadata": {
    "colab": {
     "base_uri": "https://localhost:8080/",
     "height": 91
    },
    "colab_type": "code",
    "execution": {
     "iopub.execute_input": "2020-06-22T22:21:27.493789Z",
     "iopub.status.busy": "2020-06-22T22:21:27.492902Z",
     "iopub.status.idle": "2020-06-22T22:21:28.051958Z",
     "shell.execute_reply": "2020-06-22T22:21:28.051328Z"
    },
    "id": "ESW37mvpWhkl",
    "outputId": "b45dda48-fdc8-42f2-9eb5-8369b9db2829"
   },
   "outputs": [
    {
     "data": {
      "text/plain": [
       "alaska\n",
       "False    [39, 70, 42, 9, 36, 34, 29, 17, 71, 72, 73, 18...\n",
       "True                                                   [2]\n",
       "Name: statefip, dtype: object"
      ]
     },
     "execution_count": 31,
     "metadata": {},
     "output_type": "execute_result"
    }
   ],
   "source": [
    "cps.groupby('alaska')['statefip'].unique()"
   ]
  },
  {
   "cell_type": "markdown",
   "metadata": {
    "colab_type": "text",
    "id": "x5XF8I2IafCp"
   },
   "source": [
    "...and one more fun one to show inline Jupyter plots.\n",
    "\n",
    "*Note: This is not the poverty rate since it's not weighted!*"
   ]
  },
  {
   "cell_type": "code",
   "execution_count": 32,
   "metadata": {
    "colab": {
     "base_uri": "https://localhost:8080/",
     "height": 298
    },
    "colab_type": "code",
    "execution": {
     "iopub.execute_input": "2020-06-22T22:21:28.064178Z",
     "iopub.status.busy": "2020-06-22T22:21:28.060981Z",
     "iopub.status.idle": "2020-06-22T22:21:29.307843Z",
     "shell.execute_reply": "2020-06-22T22:21:29.305116Z"
    },
    "id": "CLLorcXqaaAz",
    "outputId": "3bde775b-8c3e-421a-f479-d5b753b0e7cc"
   },
   "outputs": [
    {
     "data": {
      "text/plain": [
       "<matplotlib.axes._subplots.AxesSubplot at 0x7ee20dba64d0>"
      ]
     },
     "execution_count": 32,
     "metadata": {},
     "output_type": "execute_result"
    },
    {
     "data": {
      "image/png": "[encoded data removed]",
      "text/plain": [
       "<Figure size 432x288 with 1 Axes>"
      ]
     },
     "metadata": {
      "filenames": {
       "image/png": "/home/mghenis/pythonomics/book/_build/jupyter_execute/pythonomics_solution_59_1.png"
      },
      "needs_background": "light"
     },
     "output_type": "display_data"
    }
   ],
   "source": [
    "cps.groupby('year')['poor'].mean().plot()"
   ]
  },
  {
   "cell_type": "markdown",
   "metadata": {
    "colab_type": "text",
    "id": "vL6lEvbwURBa"
   },
   "source": [
    "***Exercise:*** Add three new columns to `cps` for the regression:\n",
    "1. **`age2`** for $age^2$\n",
    "2. **`post`** for the post period (the Permanent Fund Dividend was introduced in 1982)\n",
    "3. **`alaska_post`** for the DD variable (hint: since those are both `True`/`False` rather than 0/1, use the `&` operator instead of `*`)"
   ]
  },
  {
   "cell_type": "code",
   "execution_count": 33,
   "metadata": {
    "colab": {},
    "colab_type": "code",
    "execution": {
     "iopub.execute_input": "2020-06-22T22:21:29.319685Z",
     "iopub.status.busy": "2020-06-22T22:21:29.317525Z",
     "iopub.status.idle": "2020-06-22T22:21:29.407502Z",
     "shell.execute_reply": "2020-06-22T22:21:29.406136Z"
    },
    "id": "XpYyWTvBVebb"
   },
   "outputs": [],
   "source": [
    "# Add age2, post, and alaska_post here:\n",
    "# ANSWER:\n",
    "cps['age2'] = cps.age ** 2\n",
    "cps['post'] = cps.year >= 1982\n",
    "cps['alaska_post'] = cps.post & cps.alaska"
   ]
  },
  {
   "cell_type": "markdown",
   "metadata": {
    "colab_type": "text",
    "id": "pjyTXn66b-QI"
   },
   "source": [
    "### Filtering data\n",
    "\n",
    "The last thing we want to do before running regressions is\n",
    "filtering `DataFrame`s. Doing this is similar to selecting specific columns, but in this case we want to pass a `True`/`False` vector to the square brackets. For example, here are all the people in Alaska:"
   ]
  },
  {
   "cell_type": "code",
   "execution_count": 34,
   "metadata": {
    "colab": {
     "base_uri": "https://localhost:8080/",
     "height": 415
    },
    "colab_type": "code",
    "execution": {
     "iopub.execute_input": "2020-06-22T22:21:29.415353Z",
     "iopub.status.busy": "2020-06-22T22:21:29.414632Z",
     "iopub.status.idle": "2020-06-22T22:21:29.853114Z",
     "shell.execute_reply": "2020-06-22T22:21:29.852498Z"
    },
    "id": "eWgOCNffc87R",
    "outputId": "cc0aa92b-889f-422f-ece6-ab64775f438f"
   },
   "outputs": [
    {
     "data": {
      "text/html": [
       "<div>\n",
       "<style scoped>\n",
       "    .dataframe tbody tr th:only-of-type {\n",
       "        vertical-align: middle;\n",
       "    }\n",
       "\n",
       "    .dataframe tbody tr th {\n",
       "        vertical-align: top;\n",
       "    }\n",
       "\n",
       "    .dataframe thead th {\n",
       "        text-align: right;\n",
       "    }\n",
       "</style>\n",
       "<table border=\"1\" class=\"dataframe\">\n",
       "  <thead>\n",
       "    <tr style=\"text-align: right;\">\n",
       "      <th></th>\n",
       "      <th>year</th>\n",
       "      <th>statefip</th>\n",
       "      <th>age</th>\n",
       "      <th>female</th>\n",
       "      <th>poor</th>\n",
       "      <th>w</th>\n",
       "      <th>alaska</th>\n",
       "      <th>age2</th>\n",
       "      <th>post</th>\n",
       "      <th>alaska_post</th>\n",
       "    </tr>\n",
       "  </thead>\n",
       "  <tbody>\n",
       "    <tr>\n",
       "      <th>1352508</th>\n",
       "      <td>1976</td>\n",
       "      <td>2</td>\n",
       "      <td>49</td>\n",
       "      <td>False</td>\n",
       "      <td>0</td>\n",
       "      <td>135.30</td>\n",
       "      <td>True</td>\n",
       "      <td>2401</td>\n",
       "      <td>False</td>\n",
       "      <td>False</td>\n",
       "    </tr>\n",
       "    <tr>\n",
       "      <th>1352509</th>\n",
       "      <td>1976</td>\n",
       "      <td>2</td>\n",
       "      <td>10</td>\n",
       "      <td>True</td>\n",
       "      <td>0</td>\n",
       "      <td>135.57</td>\n",
       "      <td>True</td>\n",
       "      <td>100</td>\n",
       "      <td>False</td>\n",
       "      <td>False</td>\n",
       "    </tr>\n",
       "    <tr>\n",
       "      <th>1352510</th>\n",
       "      <td>1976</td>\n",
       "      <td>2</td>\n",
       "      <td>12</td>\n",
       "      <td>True</td>\n",
       "      <td>0</td>\n",
       "      <td>134.71</td>\n",
       "      <td>True</td>\n",
       "      <td>144</td>\n",
       "      <td>False</td>\n",
       "      <td>False</td>\n",
       "    </tr>\n",
       "    <tr>\n",
       "      <th>1352511</th>\n",
       "      <td>1976</td>\n",
       "      <td>2</td>\n",
       "      <td>16</td>\n",
       "      <td>True</td>\n",
       "      <td>0</td>\n",
       "      <td>132.84</td>\n",
       "      <td>True</td>\n",
       "      <td>256</td>\n",
       "      <td>False</td>\n",
       "      <td>False</td>\n",
       "    </tr>\n",
       "    <tr>\n",
       "      <th>1352512</th>\n",
       "      <td>1976</td>\n",
       "      <td>2</td>\n",
       "      <td>17</td>\n",
       "      <td>False</td>\n",
       "      <td>0</td>\n",
       "      <td>160.27</td>\n",
       "      <td>True</td>\n",
       "      <td>289</td>\n",
       "      <td>False</td>\n",
       "      <td>False</td>\n",
       "    </tr>\n",
       "    <tr>\n",
       "      <th>...</th>\n",
       "      <td>...</td>\n",
       "      <td>...</td>\n",
       "      <td>...</td>\n",
       "      <td>...</td>\n",
       "      <td>...</td>\n",
       "      <td>...</td>\n",
       "      <td>...</td>\n",
       "      <td>...</td>\n",
       "      <td>...</td>\n",
       "      <td>...</td>\n",
       "    </tr>\n",
       "    <tr>\n",
       "      <th>8067492</th>\n",
       "      <td>2015</td>\n",
       "      <td>2</td>\n",
       "      <td>64</td>\n",
       "      <td>False</td>\n",
       "      <td>0</td>\n",
       "      <td>427.64</td>\n",
       "      <td>True</td>\n",
       "      <td>4096</td>\n",
       "      <td>True</td>\n",
       "      <td>True</td>\n",
       "    </tr>\n",
       "    <tr>\n",
       "      <th>8067493</th>\n",
       "      <td>2015</td>\n",
       "      <td>2</td>\n",
       "      <td>58</td>\n",
       "      <td>True</td>\n",
       "      <td>0</td>\n",
       "      <td>197.37</td>\n",
       "      <td>True</td>\n",
       "      <td>3364</td>\n",
       "      <td>True</td>\n",
       "      <td>True</td>\n",
       "    </tr>\n",
       "    <tr>\n",
       "      <th>8067494</th>\n",
       "      <td>2015</td>\n",
       "      <td>2</td>\n",
       "      <td>23</td>\n",
       "      <td>False</td>\n",
       "      <td>0</td>\n",
       "      <td>478.72</td>\n",
       "      <td>True</td>\n",
       "      <td>529</td>\n",
       "      <td>True</td>\n",
       "      <td>True</td>\n",
       "    </tr>\n",
       "    <tr>\n",
       "      <th>8067495</th>\n",
       "      <td>2015</td>\n",
       "      <td>2</td>\n",
       "      <td>22</td>\n",
       "      <td>False</td>\n",
       "      <td>0</td>\n",
       "      <td>501.55</td>\n",
       "      <td>True</td>\n",
       "      <td>484</td>\n",
       "      <td>True</td>\n",
       "      <td>True</td>\n",
       "    </tr>\n",
       "    <tr>\n",
       "      <th>8067496</th>\n",
       "      <td>2015</td>\n",
       "      <td>2</td>\n",
       "      <td>52</td>\n",
       "      <td>True</td>\n",
       "      <td>0</td>\n",
       "      <td>223.98</td>\n",
       "      <td>True</td>\n",
       "      <td>2704</td>\n",
       "      <td>True</td>\n",
       "      <td>True</td>\n",
       "    </tr>\n",
       "  </tbody>\n",
       "</table>\n",
       "<p>93860 rows × 10 columns</p>\n",
       "</div>"
      ],
      "text/plain": [
       "         year  statefip  age  female  poor       w  alaska  age2   post  \\\n",
       "1352508  1976         2   49   False     0  135.30    True  2401  False   \n",
       "1352509  1976         2   10    True     0  135.57    True   100  False   \n",
       "1352510  1976         2   12    True     0  134.71    True   144  False   \n",
       "1352511  1976         2   16    True     0  132.84    True   256  False   \n",
       "1352512  1976         2   17   False     0  160.27    True   289  False   \n",
       "...       ...       ...  ...     ...   ...     ...     ...   ...    ...   \n",
       "8067492  2015         2   64   False     0  427.64    True  4096   True   \n",
       "8067493  2015         2   58    True     0  197.37    True  3364   True   \n",
       "8067494  2015         2   23   False     0  478.72    True   529   True   \n",
       "8067495  2015         2   22   False     0  501.55    True   484   True   \n",
       "8067496  2015         2   52    True     0  223.98    True  2704   True   \n",
       "\n",
       "         alaska_post  \n",
       "1352508        False  \n",
       "1352509        False  \n",
       "1352510        False  \n",
       "1352511        False  \n",
       "1352512        False  \n",
       "...              ...  \n",
       "8067492         True  \n",
       "8067493         True  \n",
       "8067494         True  \n",
       "8067495         True  \n",
       "8067496         True  \n",
       "\n",
       "[93860 rows x 10 columns]"
      ]
     },
     "execution_count": 34,
     "metadata": {},
     "output_type": "execute_result"
    }
   ],
   "source": [
    "cps[cps['alaska']]"
   ]
  },
  {
   "cell_type": "markdown",
   "metadata": {
    "colab_type": "text",
    "id": "jl5piDHmc9sC"
   },
   "source": [
    "We could do a DD with the full dataset, but\n",
    "we'd probably want year fixed effects if we did. Instead, let's just filter for first year of the Permanent Fund Dividend, and the year before that (1981 and 1982), using the `isin` function, and make it a new `DataFrame`."
   ]
  },
  {
   "cell_type": "code",
   "execution_count": 35,
   "metadata": {
    "colab": {},
    "colab_type": "code",
    "execution": {
     "iopub.execute_input": "2020-06-22T22:21:29.867139Z",
     "iopub.status.busy": "2020-06-22T22:21:29.865142Z",
     "iopub.status.idle": "2020-06-22T22:21:29.915757Z",
     "shell.execute_reply": "2020-06-22T22:21:29.915094Z"
    },
    "id": "xF5VhLvFdHCh"
   },
   "outputs": [],
   "source": [
    "cps8182 = cps[cps['year'].isin([1981, 1982])]"
   ]
  },
  {
   "cell_type": "markdown",
   "metadata": {
    "colab_type": "text",
    "id": "Rb2GhLUdd9gM"
   },
   "source": [
    "## Regressions in `statsmodels`\n",
    "\n",
    "`statsmodels` is the primary Python package for statistical analysis like regression. We'll start by loading the `api` module, which provides a common way of specifying regressions."
   ]
  },
  {
   "cell_type": "code",
   "execution_count": 36,
   "metadata": {
    "colab": {
     "base_uri": "https://localhost:8080/",
     "height": 54
    },
    "colab_type": "code",
    "execution": {
     "iopub.execute_input": "2020-06-22T22:21:29.923396Z",
     "iopub.status.busy": "2020-06-22T22:21:29.922623Z",
     "iopub.status.idle": "2020-06-22T22:21:32.167327Z",
     "shell.execute_reply": "2020-06-22T22:21:32.164564Z"
    },
    "id": "uOrcgPBzd_-Y",
    "outputId": "1c1887e4-c731-4bfa-bf79-0a6c0c680756"
   },
   "outputs": [],
   "source": [
    "import statsmodels.api as sm"
   ]
  },
  {
   "cell_type": "markdown",
   "metadata": {
    "colab_type": "text",
    "id": "hr-QJ-JlZUe1"
   },
   "source": [
    "We'll use the `WLS` function for weighted least squares, since our survey data is weighted. Let's see what that looks like with tab completion"
   ]
  },
  {
   "cell_type": "code",
   "execution_count": 37,
   "metadata": {
    "colab": {},
    "colab_type": "code",
    "execution": {
     "iopub.execute_input": "2020-06-22T22:21:32.184678Z",
     "iopub.status.busy": "2020-06-22T22:21:32.183715Z",
     "iopub.status.idle": "2020-06-22T22:21:32.189630Z",
     "shell.execute_reply": "2020-06-22T22:21:32.188947Z"
    },
    "id": "zz27V_baZTwW"
   },
   "outputs": [],
   "source": [
    "# Type sm.WLS( and hit tab to see the documentation."
   ]
  },
  {
   "cell_type": "markdown",
   "metadata": {
    "colab_type": "text",
    "id": "o3EHkb7NZjbm"
   },
   "source": [
    "OK, so the first argument is the outcome, for us that'll be poverty status. The second is the regressors, and the third will be the weights.\n",
    "\n",
    "We're going to try something that will throw an error, so we'll use the `try`/`except` statement to ensure the notebook can fully run, this time also printing the error message we'd have gotten."
   ]
  },
  {
   "cell_type": "code",
   "execution_count": 38,
   "metadata": {
    "colab": {
     "base_uri": "https://localhost:8080/",
     "height": 35
    },
    "colab_type": "code",
    "execution": {
     "iopub.execute_input": "2020-06-22T22:21:32.208060Z",
     "iopub.status.busy": "2020-06-22T22:21:32.207295Z",
     "iopub.status.idle": "2020-06-22T22:21:32.327821Z",
     "shell.execute_reply": "2020-06-22T22:21:32.327168Z"
    },
    "id": "YKdV_0JZSSgM",
    "outputId": "317a46f6-13e3-4704-ab12-138e18f97b04"
   },
   "outputs": [],
   "source": [
    "try:\n",
    "    sm.WLS(cps8182['poor'], cps8182[['alaska', 'post', 'alaska_post']],\n",
    "           cps8182['w'])\n",
    "except Exception as e:\n",
    "    print(e)"
   ]
  },
  {
   "cell_type": "markdown",
   "metadata": {
    "colab_type": "text",
    "id": "9E6QJwREj0Au"
   },
   "source": [
    "Huh, that's a weird error. Let's use the `SEARCH STACK OVERFLOW` feature to find a solution (only shows up in Colab if removing the `try`/`except` structure).\n",
    "\n",
    "...\n",
    "\n",
    "...\n",
    "\n",
    "OK, let's multiply it by 1 to transform bools to integers and try again."
   ]
  },
  {
   "cell_type": "code",
   "execution_count": 39,
   "metadata": {
    "colab": {},
    "colab_type": "code",
    "execution": {
     "iopub.execute_input": "2020-06-22T22:21:32.342012Z",
     "iopub.status.busy": "2020-06-22T22:21:32.339218Z",
     "iopub.status.idle": "2020-06-22T22:21:32.381701Z",
     "shell.execute_reply": "2020-06-22T22:21:32.378862Z"
    },
    "id": "7y-U8RBwj8I6"
   },
   "outputs": [],
   "source": [
    "cps8182 *= 1"
   ]
  },
  {
   "cell_type": "code",
   "execution_count": 40,
   "metadata": {
    "colab": {
     "base_uri": "https://localhost:8080/",
     "height": 35
    },
    "colab_type": "code",
    "execution": {
     "iopub.execute_input": "2020-06-22T22:21:32.403559Z",
     "iopub.status.busy": "2020-06-22T22:21:32.402811Z",
     "iopub.status.idle": "2020-06-22T22:21:32.449298Z",
     "shell.execute_reply": "2020-06-22T22:21:32.448294Z"
    },
    "id": "rR_ZNVFLj_Wj",
    "outputId": "b507a82d-6fa8-43ba-ca9e-aade7f68260c"
   },
   "outputs": [
    {
     "data": {
      "text/plain": [
       "<statsmodels.regression.linear_model.WLS at 0x7ee1ef231ed0>"
      ]
     },
     "execution_count": 40,
     "metadata": {},
     "output_type": "execute_result"
    }
   ],
   "source": [
    "sm.WLS(cps8182['poor'], cps8182[['alaska', 'post', 'alaska_post']],\n",
    "       cps8182['w'])"
   ]
  },
  {
   "cell_type": "markdown",
   "metadata": {
    "colab_type": "text",
    "id": "tPf2lLIpkYxw"
   },
   "source": [
    "No error! But this just constructs the model, we now have to fit it.\n",
    "\n",
    "Let's save the fitted model as an object."
   ]
  },
  {
   "cell_type": "code",
   "execution_count": 41,
   "metadata": {
    "colab": {},
    "colab_type": "code",
    "execution": {
     "iopub.execute_input": "2020-06-22T22:21:32.469048Z",
     "iopub.status.busy": "2020-06-22T22:21:32.466775Z",
     "iopub.status.idle": "2020-06-22T22:21:32.538923Z",
     "shell.execute_reply": "2020-06-22T22:21:32.538262Z"
    },
    "id": "4SS3MjYwkeTP"
   },
   "outputs": [],
   "source": [
    "dd = sm.WLS(cps8182['poor'], cps8182[['alaska_post', 'alaska', 'post']],\n",
    "            cps8182['w']).fit()"
   ]
  },
  {
   "cell_type": "markdown",
   "metadata": {
    "colab_type": "text",
    "id": "f-hU6DBmk9MG"
   },
   "source": [
    "To see the results, use `.summary()`."
   ]
  },
  {
   "cell_type": "code",
   "execution_count": 42,
   "metadata": {
    "colab": {
     "base_uri": "https://localhost:8080/",
     "height": 501
    },
    "colab_type": "code",
    "execution": {
     "iopub.execute_input": "2020-06-22T22:21:32.544753Z",
     "iopub.status.busy": "2020-06-22T22:21:32.543849Z",
     "iopub.status.idle": "2020-06-22T22:21:32.612866Z",
     "shell.execute_reply": "2020-06-22T22:21:32.612155Z"
    },
    "id": "RNAvO7yZkghl",
    "outputId": "b453fcf9-300e-4cf6-fb84-aa7abc0859d0"
   },
   "outputs": [
    {
     "name": "stderr",
     "output_type": "stream",
     "text": [
      "/home/mghenis/anaconda3/lib/python3.7/site-packages/statsmodels/regression/linear_model.py:762: RuntimeWarning: divide by zero encountered in log\n",
      "  llf += 0.5 * np.sum(np.log(self.weights))\n"
     ]
    },
    {
     "data": {
      "text/html": [
       "<table class=\"simpletable\">\n",
       "<caption>WLS Regression Results</caption>\n",
       "<tr>\n",
       "  <th>Dep. Variable:</th>          <td>poor</td>       <th>  R-squared (uncentered):</th>      <td>   0.108</td> \n",
       "</tr>\n",
       "<tr>\n",
       "  <th>Model:</th>                   <td>WLS</td>       <th>  Adj. R-squared (uncentered):</th> <td>   0.108</td> \n",
       "</tr>\n",
       "<tr>\n",
       "  <th>Method:</th>             <td>Least Squares</td>  <th>  F-statistic:       </th>          <td>1.315e+04</td>\n",
       "</tr>\n",
       "<tr>\n",
       "  <th>Date:</th>             <td>Mon, 22 Jun 2020</td> <th>  Prob (F-statistic):</th>           <td>  0.00</td>  \n",
       "</tr>\n",
       "<tr>\n",
       "  <th>Time:</th>                 <td>15:21:32</td>     <th>  Log-Likelihood:    </th>          <td>    -inf</td> \n",
       "</tr>\n",
       "<tr>\n",
       "  <th>No. Observations:</th>      <td>324822</td>      <th>  AIC:               </th>          <td>     inf</td> \n",
       "</tr>\n",
       "<tr>\n",
       "  <th>Df Residuals:</th>          <td>324819</td>      <th>  BIC:               </th>          <td>     inf</td> \n",
       "</tr>\n",
       "<tr>\n",
       "  <th>Df Model:</th>              <td>     3</td>      <th>                     </th>              <td> </td>    \n",
       "</tr>\n",
       "<tr>\n",
       "  <th>Covariance Type:</th>      <td>nonrobust</td>    <th>                     </th>              <td> </td>    \n",
       "</tr>\n",
       "</table>\n",
       "<table class=\"simpletable\">\n",
       "<tr>\n",
       "       <td></td>          <th>coef</th>     <th>std err</th>      <th>t</th>      <th>P>|t|</th>  <th>[0.025</th>    <th>0.975]</th>  \n",
       "</tr>\n",
       "<tr>\n",
       "  <th>alaska_post</th> <td>   -0.2049</td> <td>    0.035</td> <td>   -5.830</td> <td> 0.000</td> <td>   -0.274</td> <td>   -0.136</td>\n",
       "</tr>\n",
       "<tr>\n",
       "  <th>alaska</th>      <td>    0.1702</td> <td>    0.025</td> <td>    6.735</td> <td> 0.000</td> <td>    0.121</td> <td>    0.220</td>\n",
       "</tr>\n",
       "<tr>\n",
       "  <th>post</th>        <td>    0.2099</td> <td>    0.001</td> <td>  198.363</td> <td> 0.000</td> <td>    0.208</td> <td>    0.212</td>\n",
       "</tr>\n",
       "</table>\n",
       "<table class=\"simpletable\">\n",
       "<tr>\n",
       "  <th>Omnibus:</th>       <td>73623.253</td> <th>  Durbin-Watson:     </th>  <td>   0.919</td> \n",
       "</tr>\n",
       "<tr>\n",
       "  <th>Prob(Omnibus):</th>  <td> 0.000</td>   <th>  Jarque-Bera (JB):  </th> <td>134763.634</td>\n",
       "</tr>\n",
       "<tr>\n",
       "  <th>Skew:</th>           <td> 1.493</td>   <th>  Prob(JB):          </th>  <td>    0.00</td> \n",
       "</tr>\n",
       "<tr>\n",
       "  <th>Kurtosis:</th>       <td> 4.022</td>   <th>  Cond. No.          </th>  <td>    38.3</td> \n",
       "</tr>\n",
       "</table><br/><br/>Warnings:<br/>[1] Standard Errors assume that the covariance matrix of the errors is correctly specified."
      ],
      "text/plain": [
       "<class 'statsmodels.iolib.summary.Summary'>\n",
       "\"\"\"\n",
       "                                 WLS Regression Results                                \n",
       "=======================================================================================\n",
       "Dep. Variable:                   poor   R-squared (uncentered):                   0.108\n",
       "Model:                            WLS   Adj. R-squared (uncentered):              0.108\n",
       "Method:                 Least Squares   F-statistic:                          1.315e+04\n",
       "Date:                Mon, 22 Jun 2020   Prob (F-statistic):                        0.00\n",
       "Time:                        15:21:32   Log-Likelihood:                            -inf\n",
       "No. Observations:              324822   AIC:                                        inf\n",
       "Df Residuals:                  324819   BIC:                                        inf\n",
       "Df Model:                           3                                                  \n",
       "Covariance Type:            nonrobust                                                  \n",
       "===============================================================================\n",
       "                  coef    std err          t      P>|t|      [0.025      0.975]\n",
       "-------------------------------------------------------------------------------\n",
       "alaska_post    -0.2049      0.035     -5.830      0.000      -0.274      -0.136\n",
       "alaska          0.1702      0.025      6.735      0.000       0.121       0.220\n",
       "post            0.2099      0.001    198.363      0.000       0.208       0.212\n",
       "==============================================================================\n",
       "Omnibus:                    73623.253   Durbin-Watson:                   0.919\n",
       "Prob(Omnibus):                  0.000   Jarque-Bera (JB):           134763.634\n",
       "Skew:                           1.493   Prob(JB):                         0.00\n",
       "Kurtosis:                       4.022   Cond. No.                         38.3\n",
       "==============================================================================\n",
       "\n",
       "Warnings:\n",
       "[1] Standard Errors assume that the covariance matrix of the errors is correctly specified.\n",
       "\"\"\""
      ]
     },
     "execution_count": 42,
     "metadata": {},
     "output_type": "execute_result"
    }
   ],
   "source": [
    "dd.summary()"
   ]
  },
  {
   "cell_type": "markdown",
   "metadata": {
    "colab_type": "text",
    "id": "_LUbooTClv9j"
   },
   "source": [
    "Notice anything missing?\n",
    "\n",
    "One last step (for real!):"
   ]
  },
  {
   "cell_type": "code",
   "execution_count": 43,
   "metadata": {
    "colab": {},
    "colab_type": "code",
    "execution": {
     "iopub.execute_input": "2020-06-22T22:21:32.618683Z",
     "iopub.status.busy": "2020-06-22T22:21:32.617875Z",
     "iopub.status.idle": "2020-06-22T22:21:32.649557Z",
     "shell.execute_reply": "2020-06-22T22:21:32.650144Z"
    },
    "id": "HoYCpaL2l1fp"
   },
   "outputs": [],
   "source": [
    "cps8182 = sm.add_constant(cps8182)"
   ]
  },
  {
   "cell_type": "code",
   "execution_count": 44,
   "metadata": {
    "colab": {
     "base_uri": "https://localhost:8080/",
     "height": 522
    },
    "colab_type": "code",
    "execution": {
     "iopub.execute_input": "2020-06-22T22:21:32.663318Z",
     "iopub.status.busy": "2020-06-22T22:21:32.662328Z",
     "iopub.status.idle": "2020-06-22T22:21:32.765979Z",
     "shell.execute_reply": "2020-06-22T22:21:32.766629Z"
    },
    "id": "ZAXowY8Ul5a8",
    "outputId": "af32c833-b409-4607-ca49-1be1c02bb5be"
   },
   "outputs": [
    {
     "data": {
      "text/html": [
       "<table class=\"simpletable\">\n",
       "<caption>WLS Regression Results</caption>\n",
       "<tr>\n",
       "  <th>Dep. Variable:</th>          <td>poor</td>       <th>  R-squared:         </th> <td>   0.000</td>\n",
       "</tr>\n",
       "<tr>\n",
       "  <th>Model:</th>                   <td>WLS</td>       <th>  Adj. R-squared:    </th> <td>   0.000</td>\n",
       "</tr>\n",
       "<tr>\n",
       "  <th>Method:</th>             <td>Least Squares</td>  <th>  F-statistic:       </th> <td>   19.83</td>\n",
       "</tr>\n",
       "<tr>\n",
       "  <th>Date:</th>             <td>Mon, 22 Jun 2020</td> <th>  Prob (F-statistic):</th> <td>7.61e-13</td>\n",
       "</tr>\n",
       "<tr>\n",
       "  <th>Time:</th>                 <td>15:21:32</td>     <th>  Log-Likelihood:    </th> <td>    -inf</td>\n",
       "</tr>\n",
       "<tr>\n",
       "  <th>No. Observations:</th>      <td>324822</td>      <th>  AIC:               </th> <td>     inf</td>\n",
       "</tr>\n",
       "<tr>\n",
       "  <th>Df Residuals:</th>          <td>324818</td>      <th>  BIC:               </th> <td>     inf</td>\n",
       "</tr>\n",
       "<tr>\n",
       "  <th>Df Model:</th>              <td>     3</td>      <th>                     </th>     <td> </td>   \n",
       "</tr>\n",
       "<tr>\n",
       "  <th>Covariance Type:</th>      <td>nonrobust</td>    <th>                     </th>     <td> </td>   \n",
       "</tr>\n",
       "</table>\n",
       "<table class=\"simpletable\">\n",
       "<tr>\n",
       "       <td></td>          <th>coef</th>     <th>std err</th>      <th>t</th>      <th>P>|t|</th>  <th>[0.025</th>    <th>0.975]</th>  \n",
       "</tr>\n",
       "<tr>\n",
       "  <th>alaska_post</th> <td>   -0.0056</td> <td>    0.033</td> <td>   -0.167</td> <td> 0.867</td> <td>   -0.071</td> <td>    0.060</td>\n",
       "</tr>\n",
       "<tr>\n",
       "  <th>alaska</th>      <td>   -0.0292</td> <td>    0.024</td> <td>   -1.221</td> <td> 0.222</td> <td>   -0.076</td> <td>    0.018</td>\n",
       "</tr>\n",
       "<tr>\n",
       "  <th>post</th>        <td>    0.0106</td> <td>    0.001</td> <td>    7.468</td> <td> 0.000</td> <td>    0.008</td> <td>    0.013</td>\n",
       "</tr>\n",
       "<tr>\n",
       "  <th>const</th>       <td>    0.1993</td> <td>    0.001</td> <td>  198.459</td> <td> 0.000</td> <td>    0.197</td> <td>    0.201</td>\n",
       "</tr>\n",
       "</table>\n",
       "<table class=\"simpletable\">\n",
       "<tr>\n",
       "  <th>Omnibus:</th>       <td>75086.573</td> <th>  Durbin-Watson:     </th>  <td>   1.030</td> \n",
       "</tr>\n",
       "<tr>\n",
       "  <th>Prob(Omnibus):</th>  <td> 0.000</td>   <th>  Jarque-Bera (JB):  </th> <td>138951.112</td>\n",
       "</tr>\n",
       "<tr>\n",
       "  <th>Skew:</th>           <td> 1.553</td>   <th>  Prob(JB):          </th>  <td>    0.00</td> \n",
       "</tr>\n",
       "<tr>\n",
       "  <th>Kurtosis:</th>       <td> 3.790</td>   <th>  Cond. No.          </th>  <td>    62.0</td> \n",
       "</tr>\n",
       "</table><br/><br/>Warnings:<br/>[1] Standard Errors assume that the covariance matrix of the errors is correctly specified."
      ],
      "text/plain": [
       "<class 'statsmodels.iolib.summary.Summary'>\n",
       "\"\"\"\n",
       "                            WLS Regression Results                            \n",
       "==============================================================================\n",
       "Dep. Variable:                   poor   R-squared:                       0.000\n",
       "Model:                            WLS   Adj. R-squared:                  0.000\n",
       "Method:                 Least Squares   F-statistic:                     19.83\n",
       "Date:                Mon, 22 Jun 2020   Prob (F-statistic):           7.61e-13\n",
       "Time:                        15:21:32   Log-Likelihood:                   -inf\n",
       "No. Observations:              324822   AIC:                               inf\n",
       "Df Residuals:                  324818   BIC:                               inf\n",
       "Df Model:                           3                                         \n",
       "Covariance Type:            nonrobust                                         \n",
       "===============================================================================\n",
       "                  coef    std err          t      P>|t|      [0.025      0.975]\n",
       "-------------------------------------------------------------------------------\n",
       "alaska_post    -0.0056      0.033     -0.167      0.867      -0.071       0.060\n",
       "alaska         -0.0292      0.024     -1.221      0.222      -0.076       0.018\n",
       "post            0.0106      0.001      7.468      0.000       0.008       0.013\n",
       "const           0.1993      0.001    198.459      0.000       0.197       0.201\n",
       "==============================================================================\n",
       "Omnibus:                    75086.573   Durbin-Watson:                   1.030\n",
       "Prob(Omnibus):                  0.000   Jarque-Bera (JB):           138951.112\n",
       "Skew:                           1.553   Prob(JB):                         0.00\n",
       "Kurtosis:                       3.790   Cond. No.                         62.0\n",
       "==============================================================================\n",
       "\n",
       "Warnings:\n",
       "[1] Standard Errors assume that the covariance matrix of the errors is correctly specified.\n",
       "\"\"\""
      ]
     },
     "execution_count": 44,
     "metadata": {},
     "output_type": "execute_result"
    }
   ],
   "source": [
    "dd = sm.WLS(cps8182['poor'], cps8182[['alaska_post', 'alaska', 'post', 'const']],\n",
    "            cps8182['w']).fit()\n",
    "\n",
    "dd.summary()"
   ]
  },
  {
   "cell_type": "markdown",
   "metadata": {
    "colab_type": "text",
    "id": "pQCiBI9EmFq8"
   },
   "source": [
    "Let's add some controls."
   ]
  },
  {
   "cell_type": "code",
   "execution_count": 45,
   "metadata": {
    "colab": {
     "base_uri": "https://localhost:8080/",
     "height": 619
    },
    "colab_type": "code",
    "execution": {
     "iopub.execute_input": "2020-06-22T22:21:32.779953Z",
     "iopub.status.busy": "2020-06-22T22:21:32.778998Z",
     "iopub.status.idle": "2020-06-22T22:21:32.961221Z",
     "shell.execute_reply": "2020-06-22T22:21:32.960423Z"
    },
    "id": "Cc8SrZmnmI46",
    "outputId": "6a9a7bf8-1ce5-4622-d8ae-a618d6a51861"
   },
   "outputs": [
    {
     "data": {
      "text/html": [
       "<table class=\"simpletable\">\n",
       "<caption>WLS Regression Results</caption>\n",
       "<tr>\n",
       "  <th>Dep. Variable:</th>          <td>poor</td>       <th>  R-squared:         </th> <td>   0.023</td>\n",
       "</tr>\n",
       "<tr>\n",
       "  <th>Model:</th>                   <td>WLS</td>       <th>  Adj. R-squared:    </th> <td>   0.023</td>\n",
       "</tr>\n",
       "<tr>\n",
       "  <th>Method:</th>             <td>Least Squares</td>  <th>  F-statistic:       </th> <td>   1271.</td>\n",
       "</tr>\n",
       "<tr>\n",
       "  <th>Date:</th>             <td>Mon, 22 Jun 2020</td> <th>  Prob (F-statistic):</th>  <td>  0.00</td> \n",
       "</tr>\n",
       "<tr>\n",
       "  <th>Time:</th>                 <td>15:21:32</td>     <th>  Log-Likelihood:    </th> <td>    -inf</td>\n",
       "</tr>\n",
       "<tr>\n",
       "  <th>No. Observations:</th>      <td>324822</td>      <th>  AIC:               </th> <td>     inf</td>\n",
       "</tr>\n",
       "<tr>\n",
       "  <th>Df Residuals:</th>          <td>324815</td>      <th>  BIC:               </th> <td>     inf</td>\n",
       "</tr>\n",
       "<tr>\n",
       "  <th>Df Model:</th>              <td>     6</td>      <th>                     </th>     <td> </td>   \n",
       "</tr>\n",
       "<tr>\n",
       "  <th>Covariance Type:</th>      <td>nonrobust</td>    <th>                     </th>     <td> </td>   \n",
       "</tr>\n",
       "</table>\n",
       "<table class=\"simpletable\">\n",
       "<tr>\n",
       "       <td></td>          <th>coef</th>     <th>std err</th>      <th>t</th>      <th>P>|t|</th>  <th>[0.025</th>    <th>0.975]</th>  \n",
       "</tr>\n",
       "<tr>\n",
       "  <th>alaska_post</th> <td>   -0.0034</td> <td>    0.033</td> <td>   -0.103</td> <td> 0.918</td> <td>   -0.068</td> <td>    0.061</td>\n",
       "</tr>\n",
       "<tr>\n",
       "  <th>alaska</th>      <td>   -0.0334</td> <td>    0.024</td> <td>   -1.415</td> <td> 0.157</td> <td>   -0.080</td> <td>    0.013</td>\n",
       "</tr>\n",
       "<tr>\n",
       "  <th>post</th>        <td>    0.0107</td> <td>    0.001</td> <td>    7.665</td> <td> 0.000</td> <td>    0.008</td> <td>    0.013</td>\n",
       "</tr>\n",
       "<tr>\n",
       "  <th>female</th>      <td>    0.0378</td> <td>    0.001</td> <td>   26.963</td> <td> 0.000</td> <td>    0.035</td> <td>    0.041</td>\n",
       "</tr>\n",
       "<tr>\n",
       "  <th>age</th>         <td>   -0.0087</td> <td>    0.000</td> <td>  -77.068</td> <td> 0.000</td> <td>   -0.009</td> <td>   -0.008</td>\n",
       "</tr>\n",
       "<tr>\n",
       "  <th>age2</th>        <td> 9.145e-05</td> <td>  1.4e-06</td> <td>   65.106</td> <td> 0.000</td> <td> 8.87e-05</td> <td> 9.42e-05</td>\n",
       "</tr>\n",
       "<tr>\n",
       "  <th>const</th>       <td>    0.3245</td> <td>    0.002</td> <td>  152.866</td> <td> 0.000</td> <td>    0.320</td> <td>    0.329</td>\n",
       "</tr>\n",
       "</table>\n",
       "<table class=\"simpletable\">\n",
       "<tr>\n",
       "  <th>Omnibus:</th>       <td>72868.469</td> <th>  Durbin-Watson:     </th>  <td>   1.053</td> \n",
       "</tr>\n",
       "<tr>\n",
       "  <th>Prob(Omnibus):</th>  <td> 0.000</td>   <th>  Jarque-Bera (JB):  </th> <td>132488.690</td>\n",
       "</tr>\n",
       "<tr>\n",
       "  <th>Skew:</th>           <td> 1.508</td>   <th>  Prob(JB):          </th>  <td>    0.00</td> \n",
       "</tr>\n",
       "<tr>\n",
       "  <th>Kurtosis:</th>       <td> 3.830</td>   <th>  Cond. No.          </th>  <td>1.29e+05</td> \n",
       "</tr>\n",
       "</table><br/><br/>Warnings:<br/>[1] Standard Errors assume that the covariance matrix of the errors is correctly specified.<br/>[2] The condition number is large, 1.29e+05. This might indicate that there are<br/>strong multicollinearity or other numerical problems."
      ],
      "text/plain": [
       "<class 'statsmodels.iolib.summary.Summary'>\n",
       "\"\"\"\n",
       "                            WLS Regression Results                            \n",
       "==============================================================================\n",
       "Dep. Variable:                   poor   R-squared:                       0.023\n",
       "Model:                            WLS   Adj. R-squared:                  0.023\n",
       "Method:                 Least Squares   F-statistic:                     1271.\n",
       "Date:                Mon, 22 Jun 2020   Prob (F-statistic):               0.00\n",
       "Time:                        15:21:32   Log-Likelihood:                   -inf\n",
       "No. Observations:              324822   AIC:                               inf\n",
       "Df Residuals:                  324815   BIC:                               inf\n",
       "Df Model:                           6                                         \n",
       "Covariance Type:            nonrobust                                         \n",
       "===============================================================================\n",
       "                  coef    std err          t      P>|t|      [0.025      0.975]\n",
       "-------------------------------------------------------------------------------\n",
       "alaska_post    -0.0034      0.033     -0.103      0.918      -0.068       0.061\n",
       "alaska         -0.0334      0.024     -1.415      0.157      -0.080       0.013\n",
       "post            0.0107      0.001      7.665      0.000       0.008       0.013\n",
       "female          0.0378      0.001     26.963      0.000       0.035       0.041\n",
       "age            -0.0087      0.000    -77.068      0.000      -0.009      -0.008\n",
       "age2         9.145e-05    1.4e-06     65.106      0.000    8.87e-05    9.42e-05\n",
       "const           0.3245      0.002    152.866      0.000       0.320       0.329\n",
       "==============================================================================\n",
       "Omnibus:                    72868.469   Durbin-Watson:                   1.053\n",
       "Prob(Omnibus):                  0.000   Jarque-Bera (JB):           132488.690\n",
       "Skew:                           1.508   Prob(JB):                         0.00\n",
       "Kurtosis:                       3.830   Cond. No.                     1.29e+05\n",
       "==============================================================================\n",
       "\n",
       "Warnings:\n",
       "[1] Standard Errors assume that the covariance matrix of the errors is correctly specified.\n",
       "[2] The condition number is large, 1.29e+05. This might indicate that there are\n",
       "strong multicollinearity or other numerical problems.\n",
       "\"\"\""
      ]
     },
     "execution_count": 45,
     "metadata": {},
     "output_type": "execute_result"
    }
   ],
   "source": [
    "dd_controls = sm.WLS(cps8182['poor'], \n",
    "                     cps8182[['alaska_post', 'alaska', 'post',\n",
    "                              'female', 'age', 'age2', 'const']],\n",
    "                     cps8182['w']).fit()\n",
    "\n",
    "dd_controls.summary()"
   ]
  },
  {
   "cell_type": "markdown",
   "metadata": {
    "colab_type": "text",
    "id": "VoKkXcCSeFMS"
   },
   "source": [
    "## Publication-grade regression tables in `stargazer`\n",
    "\n",
    "`stargazer` is a popular R package for creating $\\LaTeX$ regression tables,\n",
    "which has now been (mostly) ported to Python.\n",
    "\n",
    "To install the latest version, go straight to GitHub (also available other ways)."
   ]
  },
  {
   "cell_type": "code",
   "execution_count": 46,
   "metadata": {
    "colab": {
     "base_uri": "https://localhost:8080/",
     "height": 203
    },
    "colab_type": "code",
    "execution": {
     "iopub.execute_input": "2020-06-22T22:21:32.972995Z",
     "iopub.status.busy": "2020-06-22T22:21:32.971033Z",
     "iopub.status.idle": "2020-06-22T22:21:32.979681Z",
     "shell.execute_reply": "2020-06-22T22:21:32.978914Z"
    },
    "id": "YdeRhXh1RzBa",
    "outputId": "d142219f-29fa-4fc3-e5ee-8dcffcf8c90a"
   },
   "outputs": [],
   "source": [
    "try:\n",
    "    import stargazer\n",
    "except ImportError:\n",
    "    !pip install git+https://github.com/mwburke/stargazer.git    "
   ]
  },
  {
   "cell_type": "code",
   "execution_count": 47,
   "metadata": {
    "colab": {},
    "colab_type": "code",
    "execution": {
     "iopub.execute_input": "2020-06-22T22:21:32.991188Z",
     "iopub.status.busy": "2020-06-22T22:21:32.990176Z",
     "iopub.status.idle": "2020-06-22T22:21:33.000654Z",
     "shell.execute_reply": "2020-06-22T22:21:33.000045Z"
    },
    "id": "4pJjQjjkR25F"
   },
   "outputs": [],
   "source": [
    "from stargazer import stargazer as sg"
   ]
  },
  {
   "cell_type": "code",
   "execution_count": 48,
   "metadata": {
    "colab": {
     "base_uri": "https://localhost:8080/",
     "height": 529
    },
    "colab_type": "code",
    "execution": {
     "iopub.execute_input": "2020-06-22T22:21:33.035012Z",
     "iopub.status.busy": "2020-06-22T22:21:33.033539Z",
     "iopub.status.idle": "2020-06-22T22:21:33.039734Z",
     "shell.execute_reply": "2020-06-22T22:21:33.039086Z"
    },
    "id": "b9mFnTAomdyW",
    "outputId": "94517654-042e-4697-b80b-21985acc41a1"
   },
   "outputs": [
    {
     "data": {
      "text/html": [
       "<table style=\"text-align:center\"><tr><td colspan=\"3\" style=\"border-bottom: 1px solid black\"></td></tr><tr><td style=\"text-align:left\"></td><td colspan=\"2\"><em>Dependent variable:poor</em></td></tr><tr><td style=\"text-align:left\"></td><tr><td style=\"text-align:left\"></td><td>(1)</td><td>(2)</td></tr><tr><td colspan=\"3\" style=\"border-bottom: 1px solid black\"></td></tr><tr><td style=\"text-align:left\">age</td><td></td><td>-0.009<sup>***</sup></td></tr><tr><td style=\"text-align:left\"></td><td></td><td>(0.000)</td></tr><tr><td style=\"text-align:left\">age2</td><td></td><td>0.000<sup>***</sup></td></tr><tr><td style=\"text-align:left\"></td><td></td><td>(0.000)</td></tr><tr><td style=\"text-align:left\">alaska</td><td>-0.029<sup></sup></td><td>-0.033<sup></sup></td></tr><tr><td style=\"text-align:left\"></td><td>(0.024)</td><td>(0.024)</td></tr><tr><td style=\"text-align:left\">alaska_post</td><td>-0.006<sup></sup></td><td>-0.003<sup></sup></td></tr><tr><td style=\"text-align:left\"></td><td>(0.033)</td><td>(0.033)</td></tr><tr><td style=\"text-align:left\">const</td><td>0.199<sup>***</sup></td><td>0.324<sup>***</sup></td></tr><tr><td style=\"text-align:left\"></td><td>(0.001)</td><td>(0.002)</td></tr><tr><td style=\"text-align:left\">female</td><td></td><td>0.038<sup>***</sup></td></tr><tr><td style=\"text-align:left\"></td><td></td><td>(0.001)</td></tr><tr><td style=\"text-align:left\">post</td><td>0.011<sup>***</sup></td><td>0.011<sup>***</sup></td></tr><tr><td style=\"text-align:left\"></td><td>(0.001)</td><td>(0.001)</td></tr><td colspan=\"3\" style=\"border-bottom: 1px solid black\"></td></tr><tr><td style=\"text-align: left\">Observations</td><td>324822</td><td>324822</td></tr><tr><td style=\"text-align: left\">R<sup>2</sup></td><td>0.000</td><td>0.023</td></tr><tr><td style=\"text-align: left\">Adjusted R<sup>2</sup></td><td>0.000</td><td>0.023</td></tr><tr><td style=\"text-align: left\">Residual Std. Error</td><td>15.115 (df=324818)</td><td>14.942 (df=324815)</td></tr><tr><td style=\"text-align: left\">F Statistic</td><td>19.827<sup>***</sup> (df=3; 324818)</td><td>1270.719<sup>***</sup> (df=6; 324815)</td></tr><tr><td colspan=\"3\" style=\"border-bottom: 1px solid black\"></td></tr><tr><td style=\"text-align: left\">Note:</td>\n",
       " <td colspan=\"2\" style=\"text-align: right\">\n",
       "  <sup>*</sup>p&lt;0.1;\n",
       "  <sup>**</sup>p&lt;0.05;\n",
       "  <sup>***</sup>p&lt;0.01\n",
       " </td></tr></table>"
      ],
      "text/plain": [
       "<stargazer.stargazer.Stargazer at 0x7ee1ed2411d0>"
      ]
     },
     "execution_count": 48,
     "metadata": {},
     "output_type": "execute_result"
    }
   ],
   "source": [
    "sg.Stargazer([dd, dd_controls])"
   ]
  },
  {
   "cell_type": "code",
   "execution_count": 49,
   "metadata": {
    "colab": {
     "base_uri": "https://localhost:8080/",
     "height": 55
    },
    "colab_type": "code",
    "execution": {
     "iopub.execute_input": "2020-06-22T22:21:33.054072Z",
     "iopub.status.busy": "2020-06-22T22:21:33.053368Z",
     "iopub.status.idle": "2020-06-22T22:21:33.114367Z",
     "shell.execute_reply": "2020-06-22T22:21:33.113716Z"
    },
    "id": "zupXhkdgnNK4",
    "outputId": "064542ff-6c2e-4f2e-c8bf-ad112e6a8212"
   },
   "outputs": [
    {
     "data": {
      "text/plain": [
       "'\\\\begin{table}[!htbp] \\\\centering\\n  \\\\label{}\\n\\\\begin{tabular}{llcc}\\n\\\\\\\\[-1.8ex]\\\\hline\\n\\\\hline \\\\\\\\[-1.8ex]\\n& \\\\multicolumn{2}{c}{\\\\textit{Dependent variable:}} \\\\\\n\\\\cr \\\\cline{2-3}\\n\\\\\\\\[-1.8ex] & (1) & (2) \\\\\\\\\\n\\\\hline \\\\\\\\[-1.8ex]\\n age & & -0.009$^{***}$ \\\\\\\\\\n  & & (0.000) \\\\\\\\\\n age2 & & 0.000$^{***}$ \\\\\\\\\\n  & & (0.000) \\\\\\\\\\n alaska & -0.029$^{}$ & -0.033$^{}$ \\\\\\\\\\n  & (0.024) & (0.024) \\\\\\\\\\n alaska_post & -0.006$^{}$ & -0.003$^{}$ \\\\\\\\\\n  & (0.033) & (0.033) \\\\\\\\\\n const & 0.199$^{***}$ & 0.324$^{***}$ \\\\\\\\\\n  & (0.001) & (0.002) \\\\\\\\\\n female & & 0.038$^{***}$ \\\\\\\\\\n  & & (0.001) \\\\\\\\\\n post & 0.011$^{***}$ & 0.011$^{***}$ \\\\\\\\\\n  & (0.001) & (0.001) \\\\\\\\\\n\\\\hline \\\\\\\\[-1.8ex]\\n Observations & 324822 & 324822 \\\\\\\\\\n R${2}$ & 0.000 & 0.023 \\\\\\\\\\n Adjusted R${2}$ & 0.000 & 0.023 \\\\\\\\\\n Residual Std. Error & 15.115(df = 324818) & 14.942(df = 324815)  \\\\\\\\\\n F Statistic & 19.827$^{***}$ (df = 3.0; 324818.0) & 1270.719$^{***}$ (df = 6.0; 324815.0) \\\\\\\\\\n\\\\hline\\n\\\\hline \\\\\\\\[-1.8ex]\\n\\\\textit{Note:} & \\\\multicolumn{2}{r}{$^{*}$p$<$0.1; $^{**}$p$<$0.05; $^{***}$p$<$0.01} \\\\\\\\\\n\\\\end{tabular}\\n\\\\end{table}'"
      ]
     },
     "execution_count": 49,
     "metadata": {},
     "output_type": "execute_result"
    }
   ],
   "source": [
    "sg.Stargazer([dd, dd_controls]).render_latex()"
   ]
  }
 ],
 "metadata": {
  "colab": {
   "collapsed_sections": [],
   "name": "pythonomics_solution.ipynb",
   "provenance": []
  },
  "kernelspec": {
   "display_name": "Python 3",
   "name": "python3"
  },
  "language_info": {
   "codemirror_mode": {
    "name": "ipython",
    "version": 3
   },
   "file_extension": ".py",
   "mimetype": "text/x-python",
   "name": "python",
   "nbconvert_exporter": "python",
   "pygments_lexer": "ipython3",
   "version": "3.7.7"
  }
 },
 "nbformat": 4,
 "nbformat_minor": 0
}